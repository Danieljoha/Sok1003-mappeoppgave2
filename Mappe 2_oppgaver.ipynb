{
 "cells": [
  {
   "cell_type": "markdown",
   "id": "44d8d9ac-9714-458a-a55d-679e7f3990ab",
   "metadata": {},
   "source": [
    "# Mappeoppgave 2"
   ]
  },
  {
   "cell_type": "markdown",
   "id": "8c9e5c66-c191-45ef-a422-2d3ffe170cd1",
   "metadata": {},
   "source": [
    "#### Informasjon om oppgaven\n",
    "Når du besvarer oppgaven, husk: \n",
    "- les oppgaveteksten nøye\n",
    "- kommenter koden din\n",
    "- sett navn på akser og lignende i figurene\n",
    "- skriv hvor du har hentet kodesnutter fra, hvis du gjør det\n",
    "- bruk engelske variabelnavn og vær konsistent med hvordan du bruker store og små bokstaver\n",
    "- bruk mest mulig funksjoner for ting som kan repeteres\n",
    "- En kort kode kan være en bra kode, så ikke gjør det mer komplisert enn det spørres om.\n",
    "\n",
    "Du kan få full pott uten å svare på oppgaven som er markert \"ekstrapoeng\". Du blir likevel belønnet for denne (dvs. hvis du har noen feil og får 45 poeng totalt, så kan du få en høyere poengsum hvis du også har svart på \"ekstrapoeng\". \n",
    "\n",
    "#### Innlevering av oppgavene\n",
    "Du skal levere begge mappene samtidig (det vil si denne oppgaven og mappe 1). Innleveringsfristen er 6 desember kl 13:00. \n",
    "Begge oppgavene skal leveres i github (som jupyter-fil) og wiseflow (som PDF). Bruk navnet  \"SOK-1003-eksamen-2022-mappe2\" på filene.\n",
    "- For github: Husk å gi meg (brukernavn \"okaars\") tilgang til github-reposetoriet deres. Hvis dere har satt reposetoriet til public (anbefales ikke), må dere dele lenken til dette på ole.k.aars@uit.no\n",
    "- For wiseflow: En person fra hver gruppe (for hver mappeoppgave), leverer inn. Ved innlevering kan du krysse av hvem som er på gruppen din \n",
    "\n",
    "Se generell informasjon om hvordan man leverer oppgaven <th><a href='https://uit-sok-1003-h22.github.io/semesteroppgave.html'>her</a>.\n",
    "    \n",
    "<b> NB!:</b> En person fra gruppa må <a href='https://docs.google.com/forms/d/e/1FAIpQLSeljUukzUU5d-VbxyM4C0x4WUplhUKBCU5wIpPZl_bP5kN71A/viewform?usp=sf_link'> fylle ut dette skjemaet </a>  for å melde om hvem som er på gruppa. Dere vil i etterkant motta en epost om tidspunkt for presentasjon. \n",
    "    \n",
    "#### Presentasjon\n",
    "Presentasjonen innebærer en kort gjennomgang av oppgaven (10-15 min) etterfulgt av kommentarer fra meg (10-15 min). Alle gruppemedlemmer skal bidra til presentasjonen. Det er anbefalt å laste opp besvarelsen på github forut for presentasjonen (helst to dager før) slik at jeg har mulighet til å lese gjennom. Dere vil ha mulighet til å endre besvarelsen etter presentasjonen, frem til endelig innlevering 6 desember.\n",
    "\n",
    "\n"
   ]
  },
  {
   "cell_type": "code",
   "execution_count": 109,
   "id": "fd6b87ad-ff23-4f68-a186-092a3c560b34",
   "metadata": {},
   "outputs": [],
   "source": [
    "#pakker som du kan få bruk for\n",
    "import numpy as np\n",
    "import matplotlib.pyplot as plt\n",
    "from matplotlib.patches import Ellipse\n",
    "from IPython.display import display, clear_output\n",
    "import sympy as sp \n",
    "from sympy.solvers import solve"
   ]
  },
  {
   "cell_type": "markdown",
   "id": "06462796-016e-489b-ba82-74ab1e7ef659",
   "metadata": {},
   "source": [
    "### Oppgave 1 (10 poeng)"
   ]
  },
  {
   "cell_type": "markdown",
   "id": "e023ea65-979b-419f-adf7-cc3d9e3b8a96",
   "metadata": {},
   "source": [
    "a) Vi skal spille et spill der vi kaster en terning 6 ganger. Lag en funksjon med \"for-løkke\" som printer alle terningene som har blitt kastet. Du kan bruke `np.random.randint()` til å lage tilfeldige tall"
   ]
  },
  {
   "cell_type": "code",
   "execution_count": 110,
   "id": "87606b7f-1d07-4f16-ad7b-8f8aebb00ff0",
   "metadata": {},
   "outputs": [
    {
     "name": "stdout",
     "output_type": "stream",
     "text": [
      "6\n",
      "2\n",
      "5\n",
      "1\n",
      "1\n",
      "3\n"
     ]
    }
   ],
   "source": [
    "def terningkasta(kast):\n",
    "    for i in range(kast):\n",
    "        print(np.random.randint(1,7))\n",
    "        \n",
    "terningkasta(6) #Kaster terning 6 ganger"
   ]
  },
  {
   "cell_type": "markdown",
   "id": "513b72af-3d26-4e95-a339-9741c9baec4c",
   "metadata": {},
   "source": [
    "b) Juster den samme funksjonen slik at den lagrer tallene i en liste før den printer ut selve listen. Dere kan kalle denne listen for `lot_numbers`. Dere kan vurdere å bruke `append()` som del av funksjonen. "
   ]
  },
  {
   "cell_type": "code",
   "execution_count": 111,
   "id": "c6572aa3-75a2-4148-9945-7143e0215fab",
   "metadata": {},
   "outputs": [
    {
     "name": "stdout",
     "output_type": "stream",
     "text": [
      "[2, 3, 5, 2, 2, 2, 6]\n"
     ]
    }
   ],
   "source": [
    "def terningkastb(antall_kast):\n",
    "    lot_numbers = [np.random.randint(1,7) for i in range(antall_kast)] #lager liste inne i listen. \"List Comprehension\"\n",
    "    print(lot_numbers) #Looper like mange ganger som \"kast\" verdien.  \n",
    "\n",
    "        \n",
    "terningkastb(7) #Liste over terningkast"
   ]
  },
  {
   "cell_type": "markdown",
   "id": "82475b42-e595-4a0f-be43-79fcafd68ec6",
   "metadata": {},
   "source": [
    "c) Juster den samme funksjonen slik at den har to argument. Disse argumentene er to terningverdier som du \"tipper\" blir kastet. Bruk `if`, `else` og `elif` til å generere vinnertall. Resultatet fra funksjonen skal printe ut ulike setninger avhengig av om man får 0, 1 eller 2 rette. Setningene velger du selv, men de skal inneholde tallene som du tippet, og tallene som ble trukket.  "
   ]
  },
  {
   "cell_type": "code",
   "execution_count": 112,
   "id": "c5be1693-2afc-462a-a978-eefaf621a038",
   "metadata": {},
   "outputs": [
    {
     "name": "stdout",
     "output_type": "stream",
     "text": [
      "Du gjettet 3 og 5, ingen er i lista [1, 6]\n"
     ]
    }
   ],
   "source": [
    "def terningkastc(gjett1, gjett2, antall_kast = 2): #terning kast og våres gjettinger 1 og 2. \n",
    "    lot_numbers = [np.random.randint(1,7) for i in range(antall_kast)]   #list comprehension isteder for append\n",
    "    rett1, rett2 = False, False  #Starter med å definere begge som false. må gjøres for å kunne forandres til true senere om gjettingen er rett.\n",
    "    \n",
    "    \n",
    "    for i in lot_numbers: #i er alle tilfeldige tall i listen fra 1 til med ikke med 7\n",
    "        if i == gjett1:\n",
    "            rett1 = True\n",
    "        if i == gjett2:\n",
    "            rett2 = True\n",
    "    if rett1 and rett2 == True:   #if går hvis begge er rett, ellers går den videre nedover.\n",
    "        print(f'To rette gjett! Tallene {gjett1} og {gjett2} er i lista {lot_numbers}')          \n",
    "    elif rett1 == True:           #elif brukes som if else om ikke if er rett, for å gå videre ned\n",
    "        print(f'Ett rett gjett! Tallet {gjett1} er i lista {lot_numbers}, {gjett2} er ikke med') #sjekker om gjett 1 er rett\n",
    "    elif rett2 == True:\n",
    "        print(f'Ett rett gjett! Tallet {gjett2} er i lista {lot_numbers}, {gjett1} er ikke med') #sjekker om gjett 2 er rett\n",
    "    else: #else kommando der den har sjekket om begge gjettene er \"TRUE\", eller om en av de er true og siden ingen er rett så er det\n",
    "        print(f'Du gjettet {gjett1} og {gjett2}, ingen er i lista {lot_numbers}') #else kommandoen som kjører. \n",
    "        \n",
    "terningkastc(3,5) #kan skrive inn hvor mange kast man også vil ha\n",
    "\n",
    "#terningkastc(3,5,3) #her kaster vi 3 terninger"
   ]
  },
  {
   "cell_type": "markdown",
   "id": "4b4172a9-635c-498b-bbbc-8444ba90fdbb",
   "metadata": {
    "tags": []
   },
   "source": [
    "### Oppgave 2 (10 poeng)\n",
    "a) Du har nå begynt å spille lotto i stedet, og satser alt på ett vinnertall. Lag en while-løkke som printer ut tall helt til du har trukket riktig tall (som du definerer selv). For enkelthets skyld kan du begrense utfallsrommet av trekningene til mellom 0-30."
   ]
  },
  {
   "cell_type": "code",
   "execution_count": 113,
   "id": "56ab890f-b7a3-47a1-b605-3606e0324560",
   "metadata": {},
   "outputs": [
    {
     "name": "stdout",
     "output_type": "stream",
     "text": [
      "Please guess up to 30, no float values\n"
     ]
    }
   ],
   "source": [
    "def lottoa(guess):\n",
    "    if 0 <= guess <= 30 and int == type(guess): #sjekker om guess er fra 0 til og med 30, siden np.randomint går til og med 30 og ville loopet for alltid hvis tallet var over randomint. eller under\n",
    "        loop = True #setter loop som true siden while loop kommer\n",
    "        while loop: #må sette while loop til true siden om rette lottotall blir gjettet så blir loop false og den stopper.\n",
    "            pick = np.random.randint(30)\n",
    "            if pick == guess: \n",
    "                print(f'Winner! {guess} was right!')\n",
    "                loop = False       #her blir den satt til false for at loopen skal slutte siden pick == guess da tallet blir gjettet.\n",
    "            else:\n",
    "                print(f'{pick} was picked') \n",
    "    else:\n",
    "        print('Please guess up to 30, no float values') #tall utenfor 0-30 ble satt i kommandoen. se linje2. \n",
    "        \n",
    "lottoa(5.2)"
   ]
  },
  {
   "cell_type": "markdown",
   "id": "07c405a6-2ba7-4e14-89d8-159f3246a1da",
   "metadata": {},
   "source": [
    "b) Lag et plot av den while-løkken du nettopp lagde. Man blir belønnet om man; \n",
    "- bruker `scatter`; \n",
    "- lager plottet dynamisk (dvs at hver trekning vises hver for seg, og at x-aksen endrer seg etter en gitt verdi); \n",
    "- viser hvor når siste trekningen blir gjort (dvs at den vises kun når du har trukket vinnertallet).\n",
    "\n",
    "Avhengig av hvordan du lager figuren din kan du får bruk for å importere pakkene `Ellipse`, `display`, `clear_output`."
   ]
  },
  {
   "cell_type": "code",
   "execution_count": 114,
   "id": "8a6e7111-a628-4a56-bcc7-5831d6530683",
   "metadata": {},
   "outputs": [
    {
     "name": "stdout",
     "output_type": "stream",
     "text": [
      "It took 10 tries\n"
     ]
    },
    {
     "data": {
      "image/png": "[encoded data removed]",
      "text/plain": [
       "<Figure size 432x288 with 1 Axes>"
      ]
     },
     "metadata": {
      "needs_background": "light"
     },
     "output_type": "display_data"
    }
   ],
   "source": [
    "def lottob(guess, maxnumber):\n",
    "    if 0 <= guess <= maxnumber:\n",
    "        loop = True\n",
    "        picklist = []\n",
    "        while loop:\n",
    "            pick = np.random.randint(maxnumber)\n",
    "            if pick == guess:\n",
    "                picklist.append(pick)\n",
    "                loop = False\n",
    "                ylist = [i for i in range(len(picklist))]\n",
    "                scatterplot = plt.scatter(picklist, ylist)\n",
    "                plt.scatter(pick, ylist[-1], color='red') #går på slutten av Ylisten for å hente siste verdi for rød dott\n",
    "                plt.xlabel('The number that was picked')  #labels\n",
    "                plt.ylabel('Pick order starting from zero')\n",
    "                print(f\"It took {len(picklist)} tries\")  #fprint med lengden på listen for mengde forsøk\n",
    "                if len(picklist) <= 50:    #setter inn grid for antall forsøk som er under 50 for bedre visualisering\n",
    "                    plt.xticks(picklist)\n",
    "                    plt.grid(axis='x')\n",
    "                plt.show() #viser grid\n",
    "                \n",
    "            else:\n",
    "                picklist.append(pick) \n",
    "    else:\n",
    "        print(f'Please guess up to {maxnumber}')\n",
    "\n",
    "lottob(16, 50)\n",
    "\n",
    "\n",
    "\n",
    "\n",
    "#legg til clearoutput eclipse osv. få den til å displaye feil tall med markert feil. og til slutt rette tallet."
   ]
  },
  {
   "cell_type": "code",
   "execution_count": 135,
   "id": "e0e88e74-5193-463e-9389-054e015f7a32",
   "metadata": {},
   "outputs": [
    {
     "ename": "TypeError",
     "evalue": "'AxesSubplot' object is not callable",
     "output_type": "error",
     "traceback": [
      "\u001b[0;31m---------------------------------------------------------------------------\u001b[0m",
      "\u001b[0;31mTypeError\u001b[0m                                 Traceback (most recent call last)",
      "Input \u001b[0;32mIn [135]\u001b[0m, in \u001b[0;36m<cell line: 50>\u001b[0;34m()\u001b[0m\n\u001b[1;32m     45\u001b[0m         \u001b[38;5;28mprint\u001b[39m(\u001b[38;5;124mf\u001b[39m\u001b[38;5;124m'\u001b[39m\u001b[38;5;124mPlease guess up to \u001b[39m\u001b[38;5;132;01m{\u001b[39;00mmaxnumber\u001b[38;5;132;01m}\u001b[39;00m\u001b[38;5;124m'\u001b[39m)\n\u001b[1;32m     48\u001b[0m fig,(ax1, ax2) \u001b[38;5;241m=\u001b[39m plt\u001b[38;5;241m.\u001b[39msubplots(\u001b[38;5;241m1\u001b[39m, \u001b[38;5;241m2\u001b[39m)\n\u001b[0;32m---> 50\u001b[0m \u001b[43mlottob\u001b[49m\u001b[43m(\u001b[49m\u001b[38;5;241;43m5\u001b[39;49m\u001b[43m,\u001b[49m\u001b[43m \u001b[49m\u001b[38;5;241;43m50\u001b[39;49m\u001b[43m)\u001b[49m\n\u001b[1;32m     51\u001b[0m lottoc(\u001b[38;5;241m5\u001b[39m, \u001b[38;5;241m50\u001b[39m)\n\u001b[1;32m     52\u001b[0m ax1\u001b[38;5;241m.\u001b[39mplot(scatter(pick, ylist[\u001b[38;5;241m-\u001b[39m\u001b[38;5;241m1\u001b[39m], color\u001b[38;5;241m=\u001b[39m\u001b[38;5;124m'\u001b[39m\u001b[38;5;124mred\u001b[39m\u001b[38;5;124m'\u001b[39m))\n",
      "Input \u001b[0;32mIn [135]\u001b[0m, in \u001b[0;36mlottob\u001b[0;34m(guess, maxnumber)\u001b[0m\n\u001b[1;32m     10\u001b[0m ylist \u001b[38;5;241m=\u001b[39m [i \u001b[38;5;28;01mfor\u001b[39;00m i \u001b[38;5;129;01min\u001b[39;00m \u001b[38;5;28mrange\u001b[39m(\u001b[38;5;28mlen\u001b[39m(picklist))]\n\u001b[1;32m     11\u001b[0m scatterplot \u001b[38;5;241m=\u001b[39m plt\u001b[38;5;241m.\u001b[39mscatter(picklist, ylist)\n\u001b[0;32m---> 12\u001b[0m \u001b[43mscatter\u001b[49m\u001b[43m(\u001b[49m\u001b[43mpick\u001b[49m\u001b[43m,\u001b[49m\u001b[43m \u001b[49m\u001b[43mylist\u001b[49m\u001b[43m[\u001b[49m\u001b[38;5;241;43m-\u001b[39;49m\u001b[38;5;241;43m1\u001b[39;49m\u001b[43m]\u001b[49m\u001b[43m,\u001b[49m\u001b[43m \u001b[49m\u001b[43mcolor\u001b[49m\u001b[38;5;241;43m=\u001b[39;49m\u001b[38;5;124;43m'\u001b[39;49m\u001b[38;5;124;43mred\u001b[39;49m\u001b[38;5;124;43m'\u001b[39;49m\u001b[43m)\u001b[49m \u001b[38;5;66;03m#går på slutten av Ylisten for å hente siste verdi for rød dott\u001b[39;00m\n\u001b[1;32m     13\u001b[0m plt\u001b[38;5;241m.\u001b[39mxlabel(\u001b[38;5;124m'\u001b[39m\u001b[38;5;124mThe number that was picked\u001b[39m\u001b[38;5;124m'\u001b[39m)  \u001b[38;5;66;03m#labels\u001b[39;00m\n\u001b[1;32m     14\u001b[0m plt\u001b[38;5;241m.\u001b[39mylabel(\u001b[38;5;124m'\u001b[39m\u001b[38;5;124mPick order starting from zero\u001b[39m\u001b[38;5;124m'\u001b[39m)\n",
      "\u001b[0;31mTypeError\u001b[0m: 'AxesSubplot' object is not callable"
     ]
    },
    {
     "data": {
      "image/png": "[encoded data removed]",
      "text/plain": [
       "<Figure size 432x288 with 2 Axes>"
      ]
     },
     "metadata": {
      "needs_background": "light"
     },
     "output_type": "display_data"
    }
   ],
   "source": [
    "\n",
    "def lottob(guess, maxnumber):\n",
    "    if 0 <= guess <= maxnumber:\n",
    "        loop = True\n",
    "        picklist = []\n",
    "        while loop:\n",
    "            pick = np.random.randint(maxnumber)\n",
    "            if pick == guess:\n",
    "                picklist.append(pick)\n",
    "                loop = False\n",
    "                ylist = [i for i in range(len(picklist))]\n",
    "                scatterplot = plt.scatter(picklist, ylist)\n",
    "                scatter(pick, ylist[-1], color='red') #går på slutten av Ylisten for å hente siste verdi for rød dott\n",
    "                plt.xlabel('The number that was picked')  #labels\n",
    "                plt.ylabel('Pick order starting from zero')\n",
    "                print(f\"It took {len(picklist)} tries\")  #fprint med lengden på listen for mengde forsøk\n",
    "                if len(picklist) <= 50:    #setter inn grid for antall forsøk som er under 50 for bedre visualisering\n",
    "                    plt.xticks(picklist)\n",
    "                    plt.grid(axis='x')\n",
    "                plt.show() #viser grid\n",
    "                \n",
    "            else:\n",
    "                picklist.append(pick) \n",
    "    else:\n",
    "        print(f'Please guess up to {maxnumber}')\n",
    "\n",
    "\n",
    "def lottoc(guess, maxnumber):\n",
    "    if 0 <= guess <= maxnumber:\n",
    "        loop = True\n",
    "        picklist = []\n",
    "        while loop:\n",
    "            pick = np.random.randint(maxnumber)\n",
    "            if pick == guess:\n",
    "                picklist.append(pick)\n",
    "                picklist.sort()\n",
    "                loop = False\n",
    "                ylist = [i for i in range(picklist[-1])]\n",
    "                histplot = plt.hist(picklist, ylist)\n",
    "                plt.xlabel('The number that was picked')\n",
    "                plt.ylabel('Number of times picked')\n",
    "                plt.show()\n",
    "            else:\n",
    "                picklist.append(pick)\n",
    "    else:\n",
    "        print(f'Please guess up to {maxnumber}')\n",
    "        \n",
    "        \n",
    "fig,(ax1, ax2) = plt.subplots(1, 2)\n",
    "\n",
    "lottob(5, 50)\n",
    "lottoc(5, 50)\n",
    "ax1.plot(scatter(pick, ylist[-1], color='red'))\n",
    "ax2.plot(histplot(picklist, ylist))\n",
    "fig\n",
    "\n",
    "\n",
    "\n",
    "\n",
    "\n",
    "#vi må fikse noe her\n",
    "#good luck harald"
   ]
  },
  {
   "cell_type": "markdown",
   "id": "ce376b8a-4ab8-4f08-83cd-31e2a25d918c",
   "metadata": {},
   "source": [
    "c) Ekstrapoeng: gjør det samme som i (b), men lag et histogram som vises ved siden av. Dette histogrammet skal vise hvor mange ganger de ulike tallene ble trekt. Bruk `plt.hist` til dette. Husk at du må definere figur og akseobjekt først.  "
   ]
  },
  {
   "cell_type": "code",
   "execution_count": 116,
   "id": "7daaa879-f592-44b5-94c0-cb023f6dba1e",
   "metadata": {},
   "outputs": [
    {
     "data": {
      "image/png": "[encoded data removed]",
      "text/plain": [
       "<Figure size 432x288 with 1 Axes>"
      ]
     },
     "metadata": {
      "needs_background": "light"
     },
     "output_type": "display_data"
    }
   ],
   "source": [
    "def lottoc(guess, maxnumber):\n",
    "    if 0 <= guess <= maxnumber:\n",
    "        loop = True\n",
    "        picklist = []\n",
    "        while loop:\n",
    "            pick = np.random.randint(maxnumber)\n",
    "            if pick == guess:\n",
    "                picklist.append(pick)\n",
    "                picklist.sort()\n",
    "                loop = False\n",
    "                ylist = [i for i in range(picklist[-1])]\n",
    "                histplot = plt.hist(picklist, ylist)\n",
    "                plt.xlabel('The number that was picked')\n",
    "                plt.ylabel('Number of times picked')\n",
    "                plt.show()\n",
    "            else:\n",
    "                picklist.append(pick)\n",
    "    else:\n",
    "        print(f'Please guess up to {maxnumber}')\n",
    "\n",
    "lottoc(5, 50)   "
   ]
  },
  {
   "cell_type": "markdown",
   "id": "c8f4e513-42c3-4d3b-a781-e97e5c484c1d",
   "metadata": {},
   "source": [
    "### Oppgave 3 (20 poeng)"
   ]
  },
  {
   "cell_type": "markdown",
   "id": "e3685232-4e17-4460-b83e-bf5ac0fe626c",
   "metadata": {},
   "source": [
    "En bedrift produserer biler. Produktfunksjonen til bedriften defineres slik  $f(L, a, R) = 2RL^{a}$, hvor:\n",
    "- `L` er arbeidskraft, \n",
    "- `a` er produktiviteten til arbeiderne og \n",
    "- `R` er antall robotmaskiner\n",
    "\n",
    "a) Lag en formel for produktfunksjonen til bedriften og plot den grafisk med ulike verdier av `L` på x-aksen. Anta `a=0.6` og `R=2`"
   ]
  },
  {
   "cell_type": "code",
   "execution_count": 117,
   "id": "3a30a765-dd60-4a26-a324-02d6a5c26eb9",
   "metadata": {},
   "outputs": [
    {
     "data": {
      "image/png": "[encoded data removed]",
      "text/plain": [
       "<Figure size 432x288 with 1 Axes>"
      ]
     },
     "metadata": {
      "needs_background": "light"
     },
     "output_type": "display_data"
    }
   ],
   "source": [
    "L = np.arange(0,1000,80)            #lager ulike verdier til L(arbeidskraft)\n",
    "a=0.6                               #legger inn verdi for a\n",
    "R=2                                 #legger inn verdi for R\n",
    "\n",
    "def f(L,a,R):                       #definerer produktfunksjon\n",
    "    return 2*R*L**a\n",
    "\n",
    "for i in L:                                            #lager for loop for de ulike L verdiene\n",
    "    plt.scatter(i, f(i,a,R), color='midnightblue', marker='o')  #plotter grafen\n",
    "    \n"
   ]
  },
  {
   "cell_type": "code",
   "execution_count": 118,
   "id": "12e6faf7-54e6-494a-af0d-21a2d9c94bb5",
   "metadata": {},
   "outputs": [
    {
     "data": {
      "image/png": "[encoded data removed]",
      "text/plain": [
       "<Figure size 432x288 with 1 Axes>"
      ]
     },
     "metadata": {
      "needs_background": "light"
     },
     "output_type": "display_data"
    }
   ],
   "source": [
    "L = np.arange(0,1000,20)            #lager ulike verdier til L(arbeidskraft)\n",
    "a=0.6                               #legger inn verdi for a\n",
    "R=2                                 #legger inn verdi for R\n",
    "\n",
    "ansatte = []\n",
    "biler = []\n",
    "for i in L:                                        \n",
    "    ansatte.append(i)\n",
    "    \n",
    "    biler.append(f(i,a,R))\n",
    "    \n",
    "plt.plot(ansatte, biler)\n",
    "plt.show() #fjerner utsagnet om plassen i minnet plotten er lagret på"
   ]
  },
  {
   "cell_type": "markdown",
   "id": "761b1c38-b798-4f13-b954-34ac93544549",
   "metadata": {},
   "source": [
    "b) anta at profittfunksjonen til denne bedriften er ${profit = f(L, a, R)p-wL-cR-K}$, hvor \n",
    "- `w` er månedslønnen til arbeiderne, \n",
    "- `c` er kostnaden for robotmaskinene \n",
    "- `K` er faste kostnader\n",
    "- `p` er utsalgsprisen på bilene. \n",
    "\n",
    "Anta `a=0.6`,`R=6`, `p=300 000`, `w=100 000`, `c= 1 000 000` og `K=90 000 000`. Plot profittfunksjonen figurativt for antall arbeidere (`L`) mellom 0 og 10 000. Vis profitten i millioner (dvs at du må dele på 1 000 000)"
   ]
  },
  {
   "cell_type": "code",
   "execution_count": 272,
   "id": "4a64ccd4-98eb-4cd2-8c64-e1196187092b",
   "metadata": {},
   "outputs": [
    {
     "data": {
      "image/png": "[encoded data removed]",
      "text/plain": [
       "<Figure size 432x288 with 1 Axes>"
      ]
     },
     "metadata": {
      "needs_background": "light"
     },
     "output_type": "display_data"
    }
   ],
   "source": [
    "L = np.arange(0,10000, 500)                 #nye verdier for L\n",
    "\n",
    "a=0.6\n",
    "R=6                                         #legger inn de nye verdiene\n",
    "p=300000\n",
    "w=100000\n",
    "c=1000000\n",
    "K=90000000\n",
    "\n",
    "def profittfunksjon(L,a,R,p,w,c,K):         #definerer profittfunksjon og deler på 1 million\n",
    "    return (f(L,a,R)*p-w*L-c*R-K)/1000000   \n",
    "\n",
    "for i in L:                                 #ny loop for L, plotter profittfunksjon\n",
    "    plt.plot(i, profittfunksjon(i,a,R,p,w,c,K), 'gold', marker='o')  #skriv inn color='gold' for gudsskyld\n"
   ]
  },
  {
   "cell_type": "code",
   "execution_count": 120,
   "id": "18261586-8a5a-47fb-a375-502ad1f08158",
   "metadata": {},
   "outputs": [
    {
     "data": {
      "image/png": "[encoded data removed]",
      "text/plain": [
       "<Figure size 432x288 with 1 Axes>"
      ]
     },
     "metadata": {
      "needs_background": "light"
     },
     "output_type": "display_data"
    }
   ],
   "source": [
    "L = np.arange(0,10000,20)            #lager ulike verdier til L(arbeidskraft)\n",
    "\n",
    "\n",
    "ansatte = []\n",
    "profitt = []\n",
    "for i in L:                                        \n",
    "    ansatte.append(i)\n",
    "    \n",
    "    profitt.append(profittfunksjon(i,a,R,p,w,c,K))\n",
    "    \n",
    "plt.plot(ansatte, profitt)\n",
    "plt.show() #fjerner utsagnet om plassen i minnet plotten er lagret på"
   ]
  },
  {
   "cell_type": "markdown",
   "id": "abec7c59-aa53-4350-bb7a-01b7ec2488ec",
   "metadata": {},
   "source": [
    "c) Plot profitttfunksjonen for antall robostmaskiner `R=[3, 6, 9]` i samme plot (dvs at tre profittfunksjoner vises sammen). Bruk av \"for loops\" for å gjøre dette belønnes"
   ]
  },
  {
   "cell_type": "code",
   "execution_count": 121,
   "id": "e0d5dadb-c207-4ea2-9093-2edc9cffa6c5",
   "metadata": {},
   "outputs": [
    {
     "data": {
      "text/plain": [
       "<matplotlib.legend.Legend at 0x7f0063813df0>"
      ]
     },
     "execution_count": 121,
     "metadata": {},
     "output_type": "execute_result"
    },
    {
     "data": {
      "image/png": "[encoded data removed]",
      "text/plain": [
       "<Figure size 432x288 with 1 Axes>"
      ]
     },
     "metadata": {
      "needs_background": "light"
     },
     "output_type": "display_data"
    }
   ],
   "source": [
    "R=[3,6,9]                  #Lager liste for R\n",
    "\n",
    "for i in R:                #for loop for R listen, plotter\n",
    "    plt.plot(L, profittfunksjon(L,a,i,p,w,c,K), label='R{}'.format(i))\n",
    "    #plt.plot(L, profittfunksjon(L,a,i,p,w,c,K), label=f'R{i}') #bruk den her istedet\n",
    "plt.legend()"
   ]
  },
  {
   "cell_type": "markdown",
   "id": "cd9c9d0d-f57c-4fb7-8869-b795f74ce934",
   "metadata": {},
   "source": [
    "d) finn profittmaksimum og optimal antall arbeidere ved hjelp av derivasjon med samme forutsetninger som i (1b). Bruk `sympy`-pakken til dette "
   ]
  },
  {
   "cell_type": "code",
   "execution_count": 75,
   "id": "1081a59e-9f9f-4a2f-ab4d-a9139740ba5b",
   "metadata": {},
   "outputs": [
    {
     "data": {
      "text/latex": [
       "$\\displaystyle - w + \\frac{2 L^{a} R a p}{L}$"
      ],
      "text/plain": [
       "-w + 2*L**a*R*a*p/L"
      ]
     },
     "execution_count": 75,
     "metadata": {},
     "output_type": "execute_result"
    }
   ],
   "source": [
    "\n",
    "\n",
    "L,a,R,p,w,c,K=sp.symbols(\"L a R p w c K\")\n",
    "\n",
    "\n",
    "def profittfunksjon(L,a,R,p,w,c,K):\n",
    "    return (f(L,a,R)*p-w*L-c*R-K)\n",
    "\n",
    "d_profitt=sp.diff(profittfunksjon(L,a,R,p,w,c,K), L)\n",
    "\n",
    "d_profitt #vi deriverer med hensyn på L"
   ]
  },
  {
   "cell_type": "code",
   "execution_count": 76,
   "id": "42ee85a4-ba34-42c3-9115-d1bb2217939d",
   "metadata": {},
   "outputs": [
    {
     "data": {
      "text/latex": [
       "$\\displaystyle - w + \\frac{2 L^{a} R a p}{L} = 0$"
      ],
      "text/plain": [
       "Eq(-w + 2*L**a*R*a*p/L, 0)"
      ]
     },
     "execution_count": 76,
     "metadata": {},
     "output_type": "execute_result"
    }
   ],
   "source": [
    "foc=sp.Eq(d_profitt,0)\n",
    "foc #vi lager en equation og setter den lik 0"
   ]
  },
  {
   "cell_type": "code",
   "execution_count": 77,
   "id": "502a0b8a-ab25-4288-b975-28bca6479599",
   "metadata": {},
   "outputs": [
    {
     "data": {
      "text/latex": [
       "$\\displaystyle \\left(\\frac{2 R a p}{w}\\right)^{- \\frac{1}{a - 1}} = L$"
      ],
      "text/plain": [
       "Eq((2*R*a*p/w)**(-1/(a - 1)), L)"
      ]
     },
     "execution_count": 77,
     "metadata": {},
     "output_type": "execute_result"
    }
   ],
   "source": [
    "max_employees=sp.solve(foc,L)[0]\n",
    "sp.Eq(max_employees, L)"
   ]
  },
  {
   "cell_type": "code",
   "execution_count": 78,
   "id": "49741000-04b4-4434-b95e-512feeb144c6",
   "metadata": {},
   "outputs": [
    {
     "data": {
      "text/latex": [
       "$\\displaystyle - K - R c + 2 R p \\left(\\left(\\frac{2 R a p}{w}\\right)^{- \\frac{1}{a - 1}}\\right)^{a} - w \\left(\\frac{2 R a p}{w}\\right)^{- \\frac{1}{a - 1}}$"
      ],
      "text/plain": [
       "-K - R*c + 2*R*p*((2*R*a*p/w)**(-1/(a - 1)))**a - w/(2*R*a*p/w)**(1/(a - 1))"
      ]
     },
     "execution_count": 78,
     "metadata": {},
     "output_type": "execute_result"
    }
   ],
   "source": [
    "max_profit=profittfunksjon(max_employees,a,R,p,w,c,K)\n",
    "max_profit"
   ]
  },
  {
   "cell_type": "code",
   "execution_count": 79,
   "id": "8a7e9a09-96dd-4fdb-9462-524d4b343aca",
   "metadata": {},
   "outputs": [],
   "source": [
    "values={a:0.6,R:6,p:300000,w:100000, c:1000000, K:90000000} #lager dictionary for verdiene\n"
   ]
  },
  {
   "cell_type": "code",
   "execution_count": 80,
   "id": "5fca0193-76a2-475f-a289-4e6d0af59c9c",
   "metadata": {},
   "outputs": [
    {
     "name": "stdout",
     "output_type": "stream",
     "text": [
      "2168.37493200784\n"
     ]
    }
   ],
   "source": [
    "max_amount_employees = max_employees.subs(values) #Her ser vi at maksimal mengde ansatte er 2168 personer\n",
    "plt_max_employees = float(max_amount_employees)\n",
    "print(max_amount_employees)"
   ]
  },
  {
   "cell_type": "code",
   "execution_count": 81,
   "id": "3dc92cff-7926-4036-a9c5-94e5bb28ab47",
   "metadata": {},
   "outputs": [
    {
     "name": "stdout",
     "output_type": "stream",
     "text": [
      "{a: 0.6, R: 6, p: 300000, w: 100000, c: 1000000, K: 90000000, L: 2168.37493200784}\n"
     ]
    }
   ],
   "source": [
    "values[L]=max_employees.subs(values) #legger til L i dictionary med verdien.\n",
    "print(values)"
   ]
  },
  {
   "cell_type": "code",
   "execution_count": 82,
   "id": "3cd88220-f347-4bd3-8d1d-5b44aa2f9862",
   "metadata": {},
   "outputs": [
    {
     "name": "stdout",
     "output_type": "stream",
     "text": [
      "48558328.8005225\n"
     ]
    }
   ],
   "source": [
    "max_profitt_num=(profittfunksjon(L,a,R,p,w,c,K).subs(values))\n",
    "plt_max_profitt = float(max_profitt_num)\n",
    "\n",
    "print(max_profitt_num)"
   ]
  },
  {
   "cell_type": "code",
   "execution_count": 83,
   "id": "e08e6d1c-a962-445b-a401-a632ab4cc494",
   "metadata": {},
   "outputs": [
    {
     "ename": "SyntaxError",
     "evalue": "invalid syntax (64910457.py, line 1)",
     "output_type": "error",
     "traceback": [
      "\u001b[0;36m  Input \u001b[0;32mIn [83]\u001b[0;36m\u001b[0m\n\u001b[0;31m    Her legger vi til den eksempel 15 from IPython.display import Markdown delen i 5 sympy.\u001b[0m\n\u001b[0m        ^\u001b[0m\n\u001b[0;31mSyntaxError\u001b[0m\u001b[0;31m:\u001b[0m invalid syntax\n"
     ]
    }
   ],
   "source": [
    "Her legger vi til den eksempel 15 from IPython.display import Markdown delen i 5 sympy. "
   ]
  },
  {
   "cell_type": "markdown",
   "id": "d4614067-a66f-46d5-ae32-d641942554a1",
   "metadata": {},
   "source": [
    "e) vis figurativt med bruk av `fill_between` arealet hvor man taper penger (i rødt) og hvor man tjener penger (i grønt). Marker også profittmaksimum og antall arbeidere i profittmaksimum - gjerne ved bruk av `vlines`. Bruk ellers samme forutsetninger for argumentene som i oppgave (1b)"
   ]
  },
  {
   "cell_type": "code",
   "execution_count": null,
   "id": "6fdbc831-bf16-4747-bcf5-627f29c4572a",
   "metadata": {},
   "outputs": [],
   "source": [
    "print(profittfunksjon(L,a,R,p,w,c,K).subs(values))"
   ]
  },
  {
   "cell_type": "code",
   "execution_count": 84,
   "id": "267eccfe-d1ab-4e45-a1f4-63990001efc0",
   "metadata": {},
   "outputs": [
    {
     "data": {
      "image/png": "[encoded data removed]",
      "text/plain": [
       "<Figure size 432x288 with 1 Axes>"
      ]
     },
     "metadata": {
      "needs_background": "light"
     },
     "output_type": "display_data"
    }
   ],
   "source": [
    "stepsize = 10\n",
    "ansatte = np.arange(0,10000, stepsize)                 #nye verdier for L\n",
    "\n",
    "a=0.6\n",
    "R=6                                         #legger inn de nye verdiene\n",
    "p=300000\n",
    "w=100000\n",
    "c=1000000\n",
    "K=90000000\n",
    "\n",
    "\n",
    "\n",
    "m=-1\n",
    "y_value = [] #få skiten bort(kanskje)\n",
    "x_value = [] #få skiten bort(kanskje)\n",
    "tapsliste = []\n",
    "profittliste = []\n",
    "\n",
    "tapslistex = []\n",
    "profittlistex = []\n",
    "\n",
    "for i in ansatte:\n",
    "    m +=1 #indekserer ansatte etter M for å alltid få rett posisjon\n",
    "    \n",
    "    funksjon=profittfunksjon(ansatte,a,R,p,w,c,K)\n",
    "    \n",
    "    y_value.append(funksjon[m])    #fjern trengs ikke(kanskje)\n",
    "    x_value.append(ansatte[m])     #fjern trengs ikke(kanskje)\n",
    "\n",
    "    \n",
    "    \n",
    "    if funksjon[m] <= 0:\n",
    "        tapsliste.append(funksjon[m])              #hvis profitten er mindre enn null så går det i tapsliste. indeksert med M\n",
    "        tapslistex.append(m*stepsize)\n",
    "    else:\n",
    "        profittliste.append(funksjon[m])           #hvis profitten er større enn null så går det i profittliste. indeksert med M\n",
    "        profittlistex.append(m*stepsize)\n",
    "    \n",
    "\n",
    "\n",
    "    \n",
    "\n",
    "\n",
    "\n",
    "\n",
    "plt.vlines(plt_max_employees, -2e8, plt_max_profitt, color=\"red\")\n",
    "plt.hlines(plt_max_profitt, 0, 10000, color=\"red\")\n",
    "plt.scatter(plt_max_employees, plt_max_profitt, color=\"purple\")     #fiks denne du harald. den e off center\n",
    "\n",
    "                         \n",
    "\n",
    "plt.fill_between(tapslistex, tapsliste, 0, color=\"red\")                           \n",
    "plt.fill_between(profittlistex, profittliste, 0, color=\"green\")   #fiks farger, ser jævlig ut\n",
    "\n",
    "plt.plot(x_value, y_value) #fjern trengs ikke(kanskje)\n",
    "\n",
    "plt.show()\n",
    "\n",
    "\n"
   ]
  },
  {
   "cell_type": "markdown",
   "id": "c7c75529-8429-49bd-b475-c3809f0cc087",
   "metadata": {},
   "source": [
    "f) Plot nå to figurer sammen der du viser hva optimal antall arbeidere gir i profitt (slik som i (2e)) og produksjon av antall biler (som du får fra produktfunksjonen). Marker optimum med vlines. Ha grafen med profittfunksjonen over grafen med produktfunksjonen. Du kan bruke `fig, (ax1, ax2) = plt.subplots(2)` når du skal gjøre dette. <br>\n",
    "\n",
    "<b> Hint: </b> Du kan finne antall biler som blir produsert ved å bruke antall arbeidere i profittmaksimum, i produktfunksjonen.\n"
   ]
  },
  {
   "cell_type": "code",
   "execution_count": 108,
   "id": "c257e111-e078-4a48-afa5-74ff2bef9d56",
   "metadata": {},
   "outputs": [
    {
     "data": {
      "image/png": "[encoded data removed]",
      "text/plain": [
       "<Figure size 432x288 with 2 Axes>"
      ]
     },
     "metadata": {
      "needs_background": "light"
     },
     "output_type": "display_data"
    }
   ],
   "source": [
    "a=0.6\n",
    "R=6   \n",
    "\n",
    "\n",
    "stepsize = 10\n",
    "ansatte = np.arange(0,10000, stepsize)                 #nye verdier for \n",
    "\n",
    "\n",
    "def f(ansatte,a,R):                       #definerer produktfunksjon\n",
    "    return 2*R*ansatte**a\n",
    "\n",
    "\n",
    "\n",
    "ansatte1 = []\n",
    "biler = []\n",
    "for i in ansatte:                                        \n",
    "    ansatte1.append(i)\n",
    "    \n",
    "    biler.append(f(i,a,R))\n",
    "\n",
    "    \n",
    "    \n",
    "fig, (ax2, ax1) = plt.subplots(2)\n",
    "ax1.plot(ansatte1, biler, label=\"test1\", color=\"red\")\n",
    "ax2.plot(x_value, y_value, label=\"test2\")\n",
    "\n",
    "fig.legend()\n",
    "plt.show()\n",
    "\n",
    "\n",
    "#usikker på denne oppgaven, vet ikke helt hva oppgaven spør om\n",
    "\n",
    "\n"
   ]
  },
  {
   "cell_type": "markdown",
   "id": "405329a8-fe5e-45a0-bf3b-d1182af70c1f",
   "metadata": {},
   "source": [
    "### Oppgave 4 (10 poeng)\n",
    "I denne oppgaven skal vi hente ut et datasett fra eurostat på investeringer i hosholdningen. Bruk koden under til å hente ut dataene.\n",
    "<br><b>NB!:</b> Husk at dere må ha innstallert pakken `eurostat`. Dette gjør dere med å åpne \"Terminal\" og kjøre  `pip install eurostat`."
   ]
  },
  {
   "cell_type": "code",
   "execution_count": 291,
   "id": "444371dc-188a-478a-86f5-4d3c0f36bfff",
   "metadata": {},
   "outputs": [],
   "source": [
    "import eurostat\n",
    "\n",
    "inv_data = eurostat.get_data_df('tec00098')\n"
   ]
  },
  {
   "cell_type": "markdown",
   "id": "cfd54317-e3e2-437f-a9d5-26d941c3d9d5",
   "metadata": {},
   "source": [
    "a) Bytt navn på kolonnen \"geo\\\\time\" til \"country\" ved bruk av en av kodene under. Fjern så alle kolonner utenom \"country\" og alle årstallene. \n",
    "<br> <b>NB!:</b> Noen vil få en ekstra første kolonne som heter \"freq\" eller noe annet. Da må dere bruke versjon 2 av koden under. "
   ]
  },
  {
   "cell_type": "code",
   "execution_count": null,
   "id": "4dc833b6-7349-4773-9789-47d2da20015d",
   "metadata": {},
   "outputs": [],
   "source": [
    "#inv_data.columns = ['unit',   'sector',  'na_item', 'country'] + list(range(2010, 2022)) #v1\n"
   ]
  },
  {
   "cell_type": "code",
   "execution_count": 292,
   "id": "2e3da626-a5e4-4ed5-af0f-29023179b077",
   "metadata": {},
   "outputs": [],
   "source": [
    "inv_data.columns = ['freq', 'unit',   'sector',  'na_item', 'country'] + list(range(2010, 2022)) #v2 \n"
   ]
  },
  {
   "cell_type": "code",
   "execution_count": 293,
   "id": "2821141b-796b-4af2-a1da-810186947836",
   "metadata": {},
   "outputs": [
    {
     "data": {
      "text/html": [
       "<div>\n",
       "<style scoped>\n",
       "    .dataframe tbody tr th:only-of-type {\n",
       "        vertical-align: middle;\n",
       "    }\n",
       "\n",
       "    .dataframe tbody tr th {\n",
       "        vertical-align: top;\n",
       "    }\n",
       "\n",
       "    .dataframe thead th {\n",
       "        text-align: right;\n",
       "    }\n",
       "</style>\n",
       "<table border=\"1\" class=\"dataframe\">\n",
       "  <thead>\n",
       "    <tr style=\"text-align: right;\">\n",
       "      <th></th>\n",
       "      <th>country</th>\n",
       "      <th>2010</th>\n",
       "      <th>2011</th>\n",
       "      <th>2012</th>\n",
       "      <th>2013</th>\n",
       "      <th>2014</th>\n",
       "      <th>2015</th>\n",
       "      <th>2016</th>\n",
       "      <th>2017</th>\n",
       "      <th>2018</th>\n",
       "      <th>2019</th>\n",
       "      <th>2020</th>\n",
       "      <th>2021</th>\n",
       "    </tr>\n",
       "  </thead>\n",
       "  <tbody>\n",
       "    <tr>\n",
       "      <th>0</th>\n",
       "      <td>AT</td>\n",
       "      <td>8.44</td>\n",
       "      <td>8.60</td>\n",
       "      <td>8.47</td>\n",
       "      <td>8.58</td>\n",
       "      <td>8.30</td>\n",
       "      <td>8.36</td>\n",
       "      <td>8.29</td>\n",
       "      <td>8.69</td>\n",
       "      <td>8.81</td>\n",
       "      <td>9.03</td>\n",
       "      <td>9.21</td>\n",
       "      <td>9.99</td>\n",
       "    </tr>\n",
       "    <tr>\n",
       "      <th>1</th>\n",
       "      <td>BE</td>\n",
       "      <td>9.82</td>\n",
       "      <td>9.45</td>\n",
       "      <td>9.37</td>\n",
       "      <td>9.03</td>\n",
       "      <td>9.45</td>\n",
       "      <td>9.31</td>\n",
       "      <td>9.33</td>\n",
       "      <td>9.28</td>\n",
       "      <td>9.35</td>\n",
       "      <td>9.78</td>\n",
       "      <td>9.15</td>\n",
       "      <td>9.94</td>\n",
       "    </tr>\n",
       "    <tr>\n",
       "      <th>2</th>\n",
       "      <td>CH</td>\n",
       "      <td>6.83</td>\n",
       "      <td>6.48</td>\n",
       "      <td>6.29</td>\n",
       "      <td>6.31</td>\n",
       "      <td>6.20</td>\n",
       "      <td>6.26</td>\n",
       "      <td>6.13</td>\n",
       "      <td>6.07</td>\n",
       "      <td>6.06</td>\n",
       "      <td>5.69</td>\n",
       "      <td>5.42</td>\n",
       "      <td>NaN</td>\n",
       "    </tr>\n",
       "    <tr>\n",
       "      <th>3</th>\n",
       "      <td>CY</td>\n",
       "      <td>13.72</td>\n",
       "      <td>10.73</td>\n",
       "      <td>8.74</td>\n",
       "      <td>7.53</td>\n",
       "      <td>7.15</td>\n",
       "      <td>6.69</td>\n",
       "      <td>8.02</td>\n",
       "      <td>8.97</td>\n",
       "      <td>11.30</td>\n",
       "      <td>12.98</td>\n",
       "      <td>13.12</td>\n",
       "      <td>13.26</td>\n",
       "    </tr>\n",
       "    <tr>\n",
       "      <th>4</th>\n",
       "      <td>CZ</td>\n",
       "      <td>11.14</td>\n",
       "      <td>9.82</td>\n",
       "      <td>8.74</td>\n",
       "      <td>8.77</td>\n",
       "      <td>8.88</td>\n",
       "      <td>8.84</td>\n",
       "      <td>9.18</td>\n",
       "      <td>7.86</td>\n",
       "      <td>9.00</td>\n",
       "      <td>9.45</td>\n",
       "      <td>9.34</td>\n",
       "      <td>9.24</td>\n",
       "    </tr>\n",
       "    <tr>\n",
       "      <th>5</th>\n",
       "      <td>DE</td>\n",
       "      <td>8.72</td>\n",
       "      <td>9.51</td>\n",
       "      <td>9.61</td>\n",
       "      <td>9.56</td>\n",
       "      <td>9.65</td>\n",
       "      <td>9.32</td>\n",
       "      <td>9.62</td>\n",
       "      <td>9.48</td>\n",
       "      <td>9.68</td>\n",
       "      <td>9.71</td>\n",
       "      <td>9.95</td>\n",
       "      <td>10.55</td>\n",
       "    </tr>\n",
       "    <tr>\n",
       "      <th>6</th>\n",
       "      <td>DK</td>\n",
       "      <td>8.50</td>\n",
       "      <td>8.51</td>\n",
       "      <td>7.87</td>\n",
       "      <td>7.35</td>\n",
       "      <td>7.60</td>\n",
       "      <td>7.50</td>\n",
       "      <td>7.46</td>\n",
       "      <td>8.10</td>\n",
       "      <td>8.33</td>\n",
       "      <td>8.57</td>\n",
       "      <td>8.69</td>\n",
       "      <td>9.24</td>\n",
       "    </tr>\n",
       "    <tr>\n",
       "      <th>7</th>\n",
       "      <td>EA19</td>\n",
       "      <td>9.30</td>\n",
       "      <td>9.21</td>\n",
       "      <td>8.80</td>\n",
       "      <td>8.37</td>\n",
       "      <td>8.24</td>\n",
       "      <td>8.09</td>\n",
       "      <td>8.35</td>\n",
       "      <td>8.52</td>\n",
       "      <td>8.71</td>\n",
       "      <td>8.77</td>\n",
       "      <td>8.53</td>\n",
       "      <td>9.51</td>\n",
       "    </tr>\n",
       "    <tr>\n",
       "      <th>8</th>\n",
       "      <td>EE</td>\n",
       "      <td>6.14</td>\n",
       "      <td>6.47</td>\n",
       "      <td>6.84</td>\n",
       "      <td>7.52</td>\n",
       "      <td>7.79</td>\n",
       "      <td>7.94</td>\n",
       "      <td>8.52</td>\n",
       "      <td>8.99</td>\n",
       "      <td>8.68</td>\n",
       "      <td>9.26</td>\n",
       "      <td>9.94</td>\n",
       "      <td>10.04</td>\n",
       "    </tr>\n",
       "    <tr>\n",
       "      <th>9</th>\n",
       "      <td>EL</td>\n",
       "      <td>9.12</td>\n",
       "      <td>8.54</td>\n",
       "      <td>6.28</td>\n",
       "      <td>4.90</td>\n",
       "      <td>3.16</td>\n",
       "      <td>2.72</td>\n",
       "      <td>2.75</td>\n",
       "      <td>2.69</td>\n",
       "      <td>2.44</td>\n",
       "      <td>2.59</td>\n",
       "      <td>2.97</td>\n",
       "      <td>3.40</td>\n",
       "    </tr>\n",
       "    <tr>\n",
       "      <th>10</th>\n",
       "      <td>ES</td>\n",
       "      <td>9.66</td>\n",
       "      <td>7.85</td>\n",
       "      <td>6.48</td>\n",
       "      <td>4.84</td>\n",
       "      <td>4.72</td>\n",
       "      <td>4.57</td>\n",
       "      <td>4.60</td>\n",
       "      <td>5.17</td>\n",
       "      <td>5.42</td>\n",
       "      <td>5.54</td>\n",
       "      <td>5.34</td>\n",
       "      <td>6.68</td>\n",
       "    </tr>\n",
       "    <tr>\n",
       "      <th>11</th>\n",
       "      <td>EU27_2020</td>\n",
       "      <td>9.07</td>\n",
       "      <td>8.95</td>\n",
       "      <td>8.56</td>\n",
       "      <td>8.12</td>\n",
       "      <td>8.06</td>\n",
       "      <td>7.97</td>\n",
       "      <td>8.22</td>\n",
       "      <td>8.42</td>\n",
       "      <td>8.54</td>\n",
       "      <td>8.60</td>\n",
       "      <td>8.33</td>\n",
       "      <td>9.19</td>\n",
       "    </tr>\n",
       "    <tr>\n",
       "      <th>12</th>\n",
       "      <td>EU28</td>\n",
       "      <td>8.44</td>\n",
       "      <td>8.34</td>\n",
       "      <td>7.94</td>\n",
       "      <td>7.67</td>\n",
       "      <td>7.65</td>\n",
       "      <td>7.55</td>\n",
       "      <td>7.85</td>\n",
       "      <td>8.16</td>\n",
       "      <td>8.24</td>\n",
       "      <td>8.39</td>\n",
       "      <td>NaN</td>\n",
       "      <td>NaN</td>\n",
       "    </tr>\n",
       "    <tr>\n",
       "      <th>13</th>\n",
       "      <td>FI</td>\n",
       "      <td>11.66</td>\n",
       "      <td>12.18</td>\n",
       "      <td>12.12</td>\n",
       "      <td>11.49</td>\n",
       "      <td>10.88</td>\n",
       "      <td>10.49</td>\n",
       "      <td>11.57</td>\n",
       "      <td>12.09</td>\n",
       "      <td>12.50</td>\n",
       "      <td>12.25</td>\n",
       "      <td>11.91</td>\n",
       "      <td>12.50</td>\n",
       "    </tr>\n",
       "    <tr>\n",
       "      <th>14</th>\n",
       "      <td>FR</td>\n",
       "      <td>9.31</td>\n",
       "      <td>9.46</td>\n",
       "      <td>9.31</td>\n",
       "      <td>9.27</td>\n",
       "      <td>9.07</td>\n",
       "      <td>8.88</td>\n",
       "      <td>8.99</td>\n",
       "      <td>9.41</td>\n",
       "      <td>9.47</td>\n",
       "      <td>9.62</td>\n",
       "      <td>8.57</td>\n",
       "      <td>9.95</td>\n",
       "    </tr>\n",
       "    <tr>\n",
       "      <th>15</th>\n",
       "      <td>HR</td>\n",
       "      <td>5.96</td>\n",
       "      <td>5.66</td>\n",
       "      <td>5.53</td>\n",
       "      <td>5.01</td>\n",
       "      <td>4.78</td>\n",
       "      <td>4.91</td>\n",
       "      <td>4.96</td>\n",
       "      <td>5.01</td>\n",
       "      <td>5.35</td>\n",
       "      <td>6.37</td>\n",
       "      <td>6.40</td>\n",
       "      <td>6.45</td>\n",
       "    </tr>\n",
       "    <tr>\n",
       "      <th>16</th>\n",
       "      <td>HU</td>\n",
       "      <td>6.67</td>\n",
       "      <td>5.11</td>\n",
       "      <td>4.80</td>\n",
       "      <td>4.92</td>\n",
       "      <td>5.17</td>\n",
       "      <td>5.68</td>\n",
       "      <td>5.86</td>\n",
       "      <td>6.53</td>\n",
       "      <td>7.19</td>\n",
       "      <td>7.52</td>\n",
       "      <td>8.87</td>\n",
       "      <td>8.30</td>\n",
       "    </tr>\n",
       "    <tr>\n",
       "      <th>17</th>\n",
       "      <td>IE</td>\n",
       "      <td>6.01</td>\n",
       "      <td>4.96</td>\n",
       "      <td>4.12</td>\n",
       "      <td>4.29</td>\n",
       "      <td>4.41</td>\n",
       "      <td>4.72</td>\n",
       "      <td>5.26</td>\n",
       "      <td>5.50</td>\n",
       "      <td>6.27</td>\n",
       "      <td>4.92</td>\n",
       "      <td>4.27</td>\n",
       "      <td>5.29</td>\n",
       "    </tr>\n",
       "    <tr>\n",
       "      <th>18</th>\n",
       "      <td>IS</td>\n",
       "      <td>4.45</td>\n",
       "      <td>4.58</td>\n",
       "      <td>4.81</td>\n",
       "      <td>5.19</td>\n",
       "      <td>5.57</td>\n",
       "      <td>NaN</td>\n",
       "      <td>NaN</td>\n",
       "      <td>NaN</td>\n",
       "      <td>NaN</td>\n",
       "      <td>NaN</td>\n",
       "      <td>NaN</td>\n",
       "      <td>NaN</td>\n",
       "    </tr>\n",
       "    <tr>\n",
       "      <th>19</th>\n",
       "      <td>IT</td>\n",
       "      <td>10.33</td>\n",
       "      <td>9.82</td>\n",
       "      <td>9.20</td>\n",
       "      <td>8.42</td>\n",
       "      <td>7.78</td>\n",
       "      <td>7.58</td>\n",
       "      <td>7.68</td>\n",
       "      <td>7.74</td>\n",
       "      <td>7.77</td>\n",
       "      <td>7.64</td>\n",
       "      <td>7.20</td>\n",
       "      <td>8.69</td>\n",
       "    </tr>\n",
       "    <tr>\n",
       "      <th>20</th>\n",
       "      <td>LT</td>\n",
       "      <td>4.73</td>\n",
       "      <td>5.11</td>\n",
       "      <td>4.70</td>\n",
       "      <td>5.56</td>\n",
       "      <td>6.04</td>\n",
       "      <td>6.68</td>\n",
       "      <td>6.89</td>\n",
       "      <td>6.51</td>\n",
       "      <td>6.78</td>\n",
       "      <td>7.09</td>\n",
       "      <td>7.04</td>\n",
       "      <td>7.39</td>\n",
       "    </tr>\n",
       "    <tr>\n",
       "      <th>21</th>\n",
       "      <td>LU</td>\n",
       "      <td>9.69</td>\n",
       "      <td>11.26</td>\n",
       "      <td>10.43</td>\n",
       "      <td>11.34</td>\n",
       "      <td>12.75</td>\n",
       "      <td>12.34</td>\n",
       "      <td>12.48</td>\n",
       "      <td>12.35</td>\n",
       "      <td>11.45</td>\n",
       "      <td>10.34</td>\n",
       "      <td>9.71</td>\n",
       "      <td>11.33</td>\n",
       "    </tr>\n",
       "    <tr>\n",
       "      <th>22</th>\n",
       "      <td>LV</td>\n",
       "      <td>3.56</td>\n",
       "      <td>4.92</td>\n",
       "      <td>6.17</td>\n",
       "      <td>4.62</td>\n",
       "      <td>4.98</td>\n",
       "      <td>5.76</td>\n",
       "      <td>4.87</td>\n",
       "      <td>4.83</td>\n",
       "      <td>5.68</td>\n",
       "      <td>5.85</td>\n",
       "      <td>5.30</td>\n",
       "      <td>4.62</td>\n",
       "    </tr>\n",
       "    <tr>\n",
       "      <th>23</th>\n",
       "      <td>NL</td>\n",
       "      <td>10.05</td>\n",
       "      <td>9.54</td>\n",
       "      <td>8.47</td>\n",
       "      <td>7.46</td>\n",
       "      <td>8.10</td>\n",
       "      <td>9.08</td>\n",
       "      <td>10.60</td>\n",
       "      <td>10.80</td>\n",
       "      <td>11.52</td>\n",
       "      <td>12.15</td>\n",
       "      <td>12.22</td>\n",
       "      <td>12.96</td>\n",
       "    </tr>\n",
       "    <tr>\n",
       "      <th>24</th>\n",
       "      <td>NO</td>\n",
       "      <td>9.71</td>\n",
       "      <td>10.98</td>\n",
       "      <td>11.74</td>\n",
       "      <td>12.32</td>\n",
       "      <td>11.82</td>\n",
       "      <td>11.35</td>\n",
       "      <td>12.34</td>\n",
       "      <td>13.02</td>\n",
       "      <td>12.22</td>\n",
       "      <td>11.89</td>\n",
       "      <td>11.29</td>\n",
       "      <td>11.11</td>\n",
       "    </tr>\n",
       "    <tr>\n",
       "      <th>25</th>\n",
       "      <td>PL</td>\n",
       "      <td>7.99</td>\n",
       "      <td>7.92</td>\n",
       "      <td>8.24</td>\n",
       "      <td>7.59</td>\n",
       "      <td>7.86</td>\n",
       "      <td>7.88</td>\n",
       "      <td>7.52</td>\n",
       "      <td>6.88</td>\n",
       "      <td>5.84</td>\n",
       "      <td>5.93</td>\n",
       "      <td>5.18</td>\n",
       "      <td>6.59</td>\n",
       "    </tr>\n",
       "    <tr>\n",
       "      <th>26</th>\n",
       "      <td>PT</td>\n",
       "      <td>6.27</td>\n",
       "      <td>5.81</td>\n",
       "      <td>5.07</td>\n",
       "      <td>4.37</td>\n",
       "      <td>4.51</td>\n",
       "      <td>4.50</td>\n",
       "      <td>4.71</td>\n",
       "      <td>5.05</td>\n",
       "      <td>5.48</td>\n",
       "      <td>5.65</td>\n",
       "      <td>5.69</td>\n",
       "      <td>6.10</td>\n",
       "    </tr>\n",
       "    <tr>\n",
       "      <th>27</th>\n",
       "      <td>RS</td>\n",
       "      <td>NaN</td>\n",
       "      <td>NaN</td>\n",
       "      <td>NaN</td>\n",
       "      <td>NaN</td>\n",
       "      <td>NaN</td>\n",
       "      <td>2.63</td>\n",
       "      <td>3.25</td>\n",
       "      <td>3.17</td>\n",
       "      <td>3.21</td>\n",
       "      <td>3.35</td>\n",
       "      <td>2.97</td>\n",
       "      <td>NaN</td>\n",
       "    </tr>\n",
       "    <tr>\n",
       "      <th>28</th>\n",
       "      <td>SE</td>\n",
       "      <td>5.86</td>\n",
       "      <td>5.48</td>\n",
       "      <td>4.51</td>\n",
       "      <td>4.61</td>\n",
       "      <td>4.69</td>\n",
       "      <td>5.69</td>\n",
       "      <td>6.15</td>\n",
       "      <td>6.77</td>\n",
       "      <td>6.24</td>\n",
       "      <td>5.88</td>\n",
       "      <td>6.48</td>\n",
       "      <td>6.84</td>\n",
       "    </tr>\n",
       "    <tr>\n",
       "      <th>29</th>\n",
       "      <td>SI</td>\n",
       "      <td>6.92</td>\n",
       "      <td>6.30</td>\n",
       "      <td>5.78</td>\n",
       "      <td>5.50</td>\n",
       "      <td>5.65</td>\n",
       "      <td>5.81</td>\n",
       "      <td>5.85</td>\n",
       "      <td>6.28</td>\n",
       "      <td>6.51</td>\n",
       "      <td>6.33</td>\n",
       "      <td>5.64</td>\n",
       "      <td>6.20</td>\n",
       "    </tr>\n",
       "    <tr>\n",
       "      <th>30</th>\n",
       "      <td>SK</td>\n",
       "      <td>6.32</td>\n",
       "      <td>7.00</td>\n",
       "      <td>6.65</td>\n",
       "      <td>7.08</td>\n",
       "      <td>6.39</td>\n",
       "      <td>6.10</td>\n",
       "      <td>6.75</td>\n",
       "      <td>6.71</td>\n",
       "      <td>6.76</td>\n",
       "      <td>6.79</td>\n",
       "      <td>6.93</td>\n",
       "      <td>7.04</td>\n",
       "    </tr>\n",
       "    <tr>\n",
       "      <th>31</th>\n",
       "      <td>UK</td>\n",
       "      <td>4.96</td>\n",
       "      <td>5.02</td>\n",
       "      <td>4.95</td>\n",
       "      <td>5.27</td>\n",
       "      <td>5.67</td>\n",
       "      <td>5.84</td>\n",
       "      <td>6.16</td>\n",
       "      <td>6.77</td>\n",
       "      <td>6.62</td>\n",
       "      <td>6.81</td>\n",
       "      <td>NaN</td>\n",
       "      <td>NaN</td>\n",
       "    </tr>\n",
       "  </tbody>\n",
       "</table>\n",
       "</div>"
      ],
      "text/plain": [
       "      country   2010   2011   2012   2013   2014   2015   2016   2017   2018  \\\n",
       "0          AT   8.44   8.60   8.47   8.58   8.30   8.36   8.29   8.69   8.81   \n",
       "1          BE   9.82   9.45   9.37   9.03   9.45   9.31   9.33   9.28   9.35   \n",
       "2          CH   6.83   6.48   6.29   6.31   6.20   6.26   6.13   6.07   6.06   \n",
       "3          CY  13.72  10.73   8.74   7.53   7.15   6.69   8.02   8.97  11.30   \n",
       "4          CZ  11.14   9.82   8.74   8.77   8.88   8.84   9.18   7.86   9.00   \n",
       "5          DE   8.72   9.51   9.61   9.56   9.65   9.32   9.62   9.48   9.68   \n",
       "6          DK   8.50   8.51   7.87   7.35   7.60   7.50   7.46   8.10   8.33   \n",
       "7        EA19   9.30   9.21   8.80   8.37   8.24   8.09   8.35   8.52   8.71   \n",
       "8          EE   6.14   6.47   6.84   7.52   7.79   7.94   8.52   8.99   8.68   \n",
       "9          EL   9.12   8.54   6.28   4.90   3.16   2.72   2.75   2.69   2.44   \n",
       "10         ES   9.66   7.85   6.48   4.84   4.72   4.57   4.60   5.17   5.42   \n",
       "11  EU27_2020   9.07   8.95   8.56   8.12   8.06   7.97   8.22   8.42   8.54   \n",
       "12       EU28   8.44   8.34   7.94   7.67   7.65   7.55   7.85   8.16   8.24   \n",
       "13         FI  11.66  12.18  12.12  11.49  10.88  10.49  11.57  12.09  12.50   \n",
       "14         FR   9.31   9.46   9.31   9.27   9.07   8.88   8.99   9.41   9.47   \n",
       "15         HR   5.96   5.66   5.53   5.01   4.78   4.91   4.96   5.01   5.35   \n",
       "16         HU   6.67   5.11   4.80   4.92   5.17   5.68   5.86   6.53   7.19   \n",
       "17         IE   6.01   4.96   4.12   4.29   4.41   4.72   5.26   5.50   6.27   \n",
       "18         IS   4.45   4.58   4.81   5.19   5.57    NaN    NaN    NaN    NaN   \n",
       "19         IT  10.33   9.82   9.20   8.42   7.78   7.58   7.68   7.74   7.77   \n",
       "20         LT   4.73   5.11   4.70   5.56   6.04   6.68   6.89   6.51   6.78   \n",
       "21         LU   9.69  11.26  10.43  11.34  12.75  12.34  12.48  12.35  11.45   \n",
       "22         LV   3.56   4.92   6.17   4.62   4.98   5.76   4.87   4.83   5.68   \n",
       "23         NL  10.05   9.54   8.47   7.46   8.10   9.08  10.60  10.80  11.52   \n",
       "24         NO   9.71  10.98  11.74  12.32  11.82  11.35  12.34  13.02  12.22   \n",
       "25         PL   7.99   7.92   8.24   7.59   7.86   7.88   7.52   6.88   5.84   \n",
       "26         PT   6.27   5.81   5.07   4.37   4.51   4.50   4.71   5.05   5.48   \n",
       "27         RS    NaN    NaN    NaN    NaN    NaN   2.63   3.25   3.17   3.21   \n",
       "28         SE   5.86   5.48   4.51   4.61   4.69   5.69   6.15   6.77   6.24   \n",
       "29         SI   6.92   6.30   5.78   5.50   5.65   5.81   5.85   6.28   6.51   \n",
       "30         SK   6.32   7.00   6.65   7.08   6.39   6.10   6.75   6.71   6.76   \n",
       "31         UK   4.96   5.02   4.95   5.27   5.67   5.84   6.16   6.77   6.62   \n",
       "\n",
       "     2019   2020   2021  \n",
       "0    9.03   9.21   9.99  \n",
       "1    9.78   9.15   9.94  \n",
       "2    5.69   5.42    NaN  \n",
       "3   12.98  13.12  13.26  \n",
       "4    9.45   9.34   9.24  \n",
       "5    9.71   9.95  10.55  \n",
       "6    8.57   8.69   9.24  \n",
       "7    8.77   8.53   9.51  \n",
       "8    9.26   9.94  10.04  \n",
       "9    2.59   2.97   3.40  \n",
       "10   5.54   5.34   6.68  \n",
       "11   8.60   8.33   9.19  \n",
       "12   8.39    NaN    NaN  \n",
       "13  12.25  11.91  12.50  \n",
       "14   9.62   8.57   9.95  \n",
       "15   6.37   6.40   6.45  \n",
       "16   7.52   8.87   8.30  \n",
       "17   4.92   4.27   5.29  \n",
       "18    NaN    NaN    NaN  \n",
       "19   7.64   7.20   8.69  \n",
       "20   7.09   7.04   7.39  \n",
       "21  10.34   9.71  11.33  \n",
       "22   5.85   5.30   4.62  \n",
       "23  12.15  12.22  12.96  \n",
       "24  11.89  11.29  11.11  \n",
       "25   5.93   5.18   6.59  \n",
       "26   5.65   5.69   6.10  \n",
       "27   3.35   2.97    NaN  \n",
       "28   5.88   6.48   6.84  \n",
       "29   6.33   5.64   6.20  \n",
       "30   6.79   6.93   7.04  \n",
       "31   6.81    NaN    NaN  "
      ]
     },
     "execution_count": 293,
     "metadata": {},
     "output_type": "execute_result"
    }
   ],
   "source": [
    "inv_data = inv_data.iloc[:, 4:]\n",
    "inv_data"
   ]
  },
  {
   "cell_type": "markdown",
   "id": "fb718dfb-02b0-49fa-88d0-27fabc3a7948",
   "metadata": {},
   "source": [
    "b) fjern radene med nan verdi. Sett deretter indeksen til \"country\". <br> <b> Hint: </b> En metode er å bruke `isna()` og `any()` over radaksene (dvs. `axis=1`)"
   ]
  },
  {
   "cell_type": "code",
   "execution_count": 304,
   "id": "834b2eda-b002-4bb1-ba63-6db7091c1127",
   "metadata": {},
   "outputs": [
    {
     "ename": "SyntaxError",
     "evalue": "invalid syntax (2411240625.py, line 1)",
     "output_type": "error",
     "traceback": [
      "\u001b[0;36m  Input \u001b[0;32mIn [304]\u001b[0;36m\u001b[0m\n\u001b[0;31m    nan = inv_data[axis=1].isna()\u001b[0m\n\u001b[0m                       ^\u001b[0m\n\u001b[0;31mSyntaxError\u001b[0m\u001b[0;31m:\u001b[0m invalid syntax\n"
     ]
    }
   ],
   "source": [
    "#nan = inv_data[].isna()\n",
    "#inv_data1 = inv_data[nan==False]\n",
    "#inv_data1\n",
    "\n",
    "\n",
    "#fiks harald din pikk"
   ]
  },
  {
   "cell_type": "markdown",
   "id": "f68af0f0-770f-4217-8491-723e8cc7480e",
   "metadata": {},
   "source": [
    "c) Lag et nytt datasett hvor du kun har med de nordiske landene (dvs. \"NO\", \"SE\", \"DK\", \"FI\"). Det kan være nyttig å bruke `isin` til dette. Bytt så om på kolonner og rader ved hjelp av `transpose`. "
   ]
  },
  {
   "cell_type": "code",
   "execution_count": 225,
   "id": "a82331aa-405e-4414-a088-546298c32291",
   "metadata": {},
   "outputs": [
    {
     "data": {
      "text/html": [
       "<div>\n",
       "<style scoped>\n",
       "    .dataframe tbody tr th:only-of-type {\n",
       "        vertical-align: middle;\n",
       "    }\n",
       "\n",
       "    .dataframe tbody tr th {\n",
       "        vertical-align: top;\n",
       "    }\n",
       "\n",
       "    .dataframe thead th {\n",
       "        text-align: right;\n",
       "    }\n",
       "</style>\n",
       "<table border=\"1\" class=\"dataframe\">\n",
       "  <thead>\n",
       "    <tr style=\"text-align: right;\">\n",
       "      <th></th>\n",
       "      <th>2010</th>\n",
       "      <th>2011</th>\n",
       "      <th>2012</th>\n",
       "      <th>2013</th>\n",
       "      <th>2014</th>\n",
       "      <th>2015</th>\n",
       "      <th>2016</th>\n",
       "      <th>2017</th>\n",
       "      <th>2018</th>\n",
       "      <th>2019</th>\n",
       "      <th>2020</th>\n",
       "      <th>2021</th>\n",
       "    </tr>\n",
       "    <tr>\n",
       "      <th>country</th>\n",
       "      <th></th>\n",
       "      <th></th>\n",
       "      <th></th>\n",
       "      <th></th>\n",
       "      <th></th>\n",
       "      <th></th>\n",
       "      <th></th>\n",
       "      <th></th>\n",
       "      <th></th>\n",
       "      <th></th>\n",
       "      <th></th>\n",
       "      <th></th>\n",
       "    </tr>\n",
       "  </thead>\n",
       "  <tbody>\n",
       "    <tr>\n",
       "      <th>DK</th>\n",
       "      <td>8.50</td>\n",
       "      <td>8.51</td>\n",
       "      <td>7.87</td>\n",
       "      <td>7.35</td>\n",
       "      <td>7.60</td>\n",
       "      <td>7.50</td>\n",
       "      <td>7.46</td>\n",
       "      <td>8.10</td>\n",
       "      <td>8.33</td>\n",
       "      <td>8.57</td>\n",
       "      <td>8.69</td>\n",
       "      <td>9.24</td>\n",
       "    </tr>\n",
       "    <tr>\n",
       "      <th>FI</th>\n",
       "      <td>11.66</td>\n",
       "      <td>12.18</td>\n",
       "      <td>12.12</td>\n",
       "      <td>11.49</td>\n",
       "      <td>10.88</td>\n",
       "      <td>10.49</td>\n",
       "      <td>11.57</td>\n",
       "      <td>12.09</td>\n",
       "      <td>12.50</td>\n",
       "      <td>12.25</td>\n",
       "      <td>11.91</td>\n",
       "      <td>12.50</td>\n",
       "    </tr>\n",
       "    <tr>\n",
       "      <th>NO</th>\n",
       "      <td>9.71</td>\n",
       "      <td>10.98</td>\n",
       "      <td>11.74</td>\n",
       "      <td>12.32</td>\n",
       "      <td>11.82</td>\n",
       "      <td>11.35</td>\n",
       "      <td>12.34</td>\n",
       "      <td>13.02</td>\n",
       "      <td>12.22</td>\n",
       "      <td>11.89</td>\n",
       "      <td>11.29</td>\n",
       "      <td>11.11</td>\n",
       "    </tr>\n",
       "    <tr>\n",
       "      <th>SE</th>\n",
       "      <td>5.86</td>\n",
       "      <td>5.48</td>\n",
       "      <td>4.51</td>\n",
       "      <td>4.61</td>\n",
       "      <td>4.69</td>\n",
       "      <td>5.69</td>\n",
       "      <td>6.15</td>\n",
       "      <td>6.77</td>\n",
       "      <td>6.24</td>\n",
       "      <td>5.88</td>\n",
       "      <td>6.48</td>\n",
       "      <td>6.84</td>\n",
       "    </tr>\n",
       "  </tbody>\n",
       "</table>\n",
       "</div>"
      ],
      "text/plain": [
       "          2010   2011   2012   2013   2014   2015   2016   2017   2018   2019  \\\n",
       "country                                                                         \n",
       "DK        8.50   8.51   7.87   7.35   7.60   7.50   7.46   8.10   8.33   8.57   \n",
       "FI       11.66  12.18  12.12  11.49  10.88  10.49  11.57  12.09  12.50  12.25   \n",
       "NO        9.71  10.98  11.74  12.32  11.82  11.35  12.34  13.02  12.22  11.89   \n",
       "SE        5.86   5.48   4.51   4.61   4.69   5.69   6.15   6.77   6.24   5.88   \n",
       "\n",
       "          2020   2021  \n",
       "country                \n",
       "DK        8.69   9.24  \n",
       "FI       11.91  12.50  \n",
       "NO       11.29  11.11  \n",
       "SE        6.48   6.84  "
      ]
     },
     "execution_count": 225,
     "metadata": {},
     "output_type": "execute_result"
    }
   ],
   "source": [
    "Nordic = inv_data['country'].isin([\"NO\", \"SE\", \"DK\", \"FI\"]) #setter nordiske land til True\n",
    "Nordic = inv_data[Nordic==True] #henter bare ut nordiske land\n",
    "Nordic = Nordic.set_index('country') #setter indeks til country\n",
    "\n",
    "Nordic #printer nordic "
   ]
  },
  {
   "cell_type": "code",
   "execution_count": 226,
   "id": "57645ec5-66cf-4ff6-9fa0-2b2509c76b27",
   "metadata": {},
   "outputs": [
    {
     "data": {
      "text/html": [
       "<div>\n",
       "<style scoped>\n",
       "    .dataframe tbody tr th:only-of-type {\n",
       "        vertical-align: middle;\n",
       "    }\n",
       "\n",
       "    .dataframe tbody tr th {\n",
       "        vertical-align: top;\n",
       "    }\n",
       "\n",
       "    .dataframe thead th {\n",
       "        text-align: right;\n",
       "    }\n",
       "</style>\n",
       "<table border=\"1\" class=\"dataframe\">\n",
       "  <thead>\n",
       "    <tr style=\"text-align: right;\">\n",
       "      <th>country</th>\n",
       "      <th>DK</th>\n",
       "      <th>FI</th>\n",
       "      <th>NO</th>\n",
       "      <th>SE</th>\n",
       "    </tr>\n",
       "  </thead>\n",
       "  <tbody>\n",
       "    <tr>\n",
       "      <th>2010</th>\n",
       "      <td>8.50</td>\n",
       "      <td>11.66</td>\n",
       "      <td>9.71</td>\n",
       "      <td>5.86</td>\n",
       "    </tr>\n",
       "    <tr>\n",
       "      <th>2011</th>\n",
       "      <td>8.51</td>\n",
       "      <td>12.18</td>\n",
       "      <td>10.98</td>\n",
       "      <td>5.48</td>\n",
       "    </tr>\n",
       "    <tr>\n",
       "      <th>2012</th>\n",
       "      <td>7.87</td>\n",
       "      <td>12.12</td>\n",
       "      <td>11.74</td>\n",
       "      <td>4.51</td>\n",
       "    </tr>\n",
       "    <tr>\n",
       "      <th>2013</th>\n",
       "      <td>7.35</td>\n",
       "      <td>11.49</td>\n",
       "      <td>12.32</td>\n",
       "      <td>4.61</td>\n",
       "    </tr>\n",
       "    <tr>\n",
       "      <th>2014</th>\n",
       "      <td>7.60</td>\n",
       "      <td>10.88</td>\n",
       "      <td>11.82</td>\n",
       "      <td>4.69</td>\n",
       "    </tr>\n",
       "    <tr>\n",
       "      <th>2015</th>\n",
       "      <td>7.50</td>\n",
       "      <td>10.49</td>\n",
       "      <td>11.35</td>\n",
       "      <td>5.69</td>\n",
       "    </tr>\n",
       "    <tr>\n",
       "      <th>2016</th>\n",
       "      <td>7.46</td>\n",
       "      <td>11.57</td>\n",
       "      <td>12.34</td>\n",
       "      <td>6.15</td>\n",
       "    </tr>\n",
       "    <tr>\n",
       "      <th>2017</th>\n",
       "      <td>8.10</td>\n",
       "      <td>12.09</td>\n",
       "      <td>13.02</td>\n",
       "      <td>6.77</td>\n",
       "    </tr>\n",
       "    <tr>\n",
       "      <th>2018</th>\n",
       "      <td>8.33</td>\n",
       "      <td>12.50</td>\n",
       "      <td>12.22</td>\n",
       "      <td>6.24</td>\n",
       "    </tr>\n",
       "    <tr>\n",
       "      <th>2019</th>\n",
       "      <td>8.57</td>\n",
       "      <td>12.25</td>\n",
       "      <td>11.89</td>\n",
       "      <td>5.88</td>\n",
       "    </tr>\n",
       "    <tr>\n",
       "      <th>2020</th>\n",
       "      <td>8.69</td>\n",
       "      <td>11.91</td>\n",
       "      <td>11.29</td>\n",
       "      <td>6.48</td>\n",
       "    </tr>\n",
       "    <tr>\n",
       "      <th>2021</th>\n",
       "      <td>9.24</td>\n",
       "      <td>12.50</td>\n",
       "      <td>11.11</td>\n",
       "      <td>6.84</td>\n",
       "    </tr>\n",
       "  </tbody>\n",
       "</table>\n",
       "</div>"
      ],
      "text/plain": [
       "country    DK     FI     NO    SE\n",
       "2010     8.50  11.66   9.71  5.86\n",
       "2011     8.51  12.18  10.98  5.48\n",
       "2012     7.87  12.12  11.74  4.51\n",
       "2013     7.35  11.49  12.32  4.61\n",
       "2014     7.60  10.88  11.82  4.69\n",
       "2015     7.50  10.49  11.35  5.69\n",
       "2016     7.46  11.57  12.34  6.15\n",
       "2017     8.10  12.09  13.02  6.77\n",
       "2018     8.33  12.50  12.22  6.24\n",
       "2019     8.57  12.25  11.89  5.88\n",
       "2020     8.69  11.91  11.29  6.48\n",
       "2021     9.24  12.50  11.11  6.84"
      ]
     },
     "execution_count": 226,
     "metadata": {},
     "output_type": "execute_result"
    }
   ],
   "source": [
    "Nordic = Nordic.transpose() #bytter om på rader og kolonner\n",
    "Nordic   #bør vi bytte navn på kolonnen fra country til year? vil det potentielt gi utslag på karakter? #harald fiks"
   ]
  },
  {
   "cell_type": "markdown",
   "id": "2d49e2bb-b44e-4558-b279-1bc10a1ba6ab",
   "metadata": {},
   "source": [
    "d) Lag en ny kolonne som du kaller \"mean\". Denne skal være gjennomsnittet av alle de nordiske landene for hvert av årene (dvs at du må ta gjennomsnittet over radene). Plot så dette og kall y-aksen for \"investering\""
   ]
  },
  {
   "cell_type": "code",
   "execution_count": 282,
   "id": "c78d7898-1931-4b4c-a4ac-f0bd1a4b3499",
   "metadata": {},
   "outputs": [
    {
     "data": {
      "image/png": "[encoded data removed]",
      "text/plain": [
       "<Figure size 432x288 with 1 Axes>"
      ]
     },
     "metadata": {
      "needs_background": "light"
     },
     "output_type": "display_data"
    },
    {
     "name": "stdout",
     "output_type": "stream",
     "text": [
      "[2010 2011 2012 2013 2014 2015 2016 2017 2018 2019 2020 2021]\n",
      "2010    8.9325\n",
      "2011    9.2875\n",
      "2012    9.0600\n",
      "2013    8.9425\n",
      "2014    8.7475\n",
      "2015    8.7575\n",
      "2016    9.3800\n",
      "2017    9.9950\n",
      "2018    9.8225\n",
      "2019    9.6475\n",
      "2020    9.5925\n",
      "2021    9.9225\n",
      "Name: Mean, dtype: float64\n"
     ]
    }
   ],
   "source": [
    "Nordic[\"Mean\"] = Nordic.mean(axis=1)\n",
    "\n",
    "\n",
    "\n",
    "\n",
    "Nordic\n",
    "\n",
    "xpath = np.arange(2010, 2022)\n",
    "plt.plot(xpath, Nordic[\"Mean\"])\n",
    "#print(Nordic[\"Mean\"])\n",
    "#print(xpath[0])\n",
    "plt.ylabel('\"investering\"(sic.)')  #sic betyr det står virkelig sånn \n",
    "plt.show()\n",
    "\n",
    "print(xpath)\n",
    "print(Nordic[\"Mean\"])"
   ]
  }
 ],
 "metadata": {
  "kernelspec": {
   "display_name": "Python 3 (ipykernel)",
   "language": "python",
   "name": "python3"
  },
  "language_info": {
   "codemirror_mode": {
    "name": "ipython",
    "version": 3
   },
   "file_extension": ".py",
   "mimetype": "text/x-python",
   "name": "python",
   "nbconvert_exporter": "python",
   "pygments_lexer": "ipython3",
   "version": "3.9.13"
  }
 },
 "nbformat": 4,
 "nbformat_minor": 5
}
