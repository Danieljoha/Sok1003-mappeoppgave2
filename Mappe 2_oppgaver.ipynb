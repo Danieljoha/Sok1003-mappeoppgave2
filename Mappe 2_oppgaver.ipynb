{
 "cells": [
  {
   "cell_type": "markdown",
   "id": "44d8d9ac-9714-458a-a55d-679e7f3990ab",
   "metadata": {},
   "source": [
    "# Mappeoppgave 2"
   ]
  },
  {
   "cell_type": "markdown",
   "id": "8c9e5c66-c191-45ef-a422-2d3ffe170cd1",
   "metadata": {},
   "source": [
    "#### Informasjon om oppgaven\n",
    "Når du besvarer oppgaven, husk: \n",
    "- les oppgaveteksten nøye\n",
    "- kommenter koden din\n",
    "- sett navn på akser og lignende i figurene\n",
    "- skriv hvor du har hentet kodesnutter fra, hvis du gjør det\n",
    "- bruk engelske variabelnavn og vær konsistent med hvordan du bruker store og små bokstaver\n",
    "- bruk mest mulig funksjoner for ting som kan repeteres\n",
    "- En kort kode kan være en bra kode, så ikke gjør det mer komplisert enn det spørres om.\n",
    "\n",
    "Du kan få full pott uten å svare på oppgaven som er markert \"ekstrapoeng\". Du blir likevel belønnet for denne (dvs. hvis du har noen feil og får 45 poeng totalt, så kan du få en høyere poengsum hvis du også har svart på \"ekstrapoeng\". \n",
    "\n",
    "#### Innlevering av oppgavene\n",
    "Du skal levere begge mappene samtidig (det vil si denne oppgaven og mappe 1). Innleveringsfristen er 6 desember kl 13:00. \n",
    "Begge oppgavene skal leveres i github (som jupyter-fil) og wiseflow (som PDF). Bruk navnet  \"SOK-1003-eksamen-2022-mappe2\" på filene.\n",
    "- For github: Husk å gi meg (brukernavn \"okaars\") tilgang til github-reposetoriet deres. Hvis dere har satt reposetoriet til public (anbefales ikke), må dere dele lenken til dette på ole.k.aars@uit.no\n",
    "- For wiseflow: En person fra hver gruppe (for hver mappeoppgave), leverer inn. Ved innlevering kan du krysse av hvem som er på gruppen din \n",
    "\n",
    "Se generell informasjon om hvordan man leverer oppgaven <th><a href='https://uit-sok-1003-h22.github.io/semesteroppgave.html'>her</a>.\n",
    "    \n",
    "<b> NB!:</b> En person fra gruppa må <a href='https://docs.google.com/forms/d/e/1FAIpQLSeljUukzUU5d-VbxyM4C0x4WUplhUKBCU5wIpPZl_bP5kN71A/viewform?usp=sf_link'> fylle ut dette skjemaet </a>  for å melde om hvem som er på gruppa. Dere vil i etterkant motta en epost om tidspunkt for presentasjon. \n",
    "    \n",
    "#### Presentasjon\n",
    "Presentasjonen innebærer en kort gjennomgang av oppgaven (10-15 min) etterfulgt av kommentarer fra meg (10-15 min). Alle gruppemedlemmer skal bidra til presentasjonen. Det er anbefalt å laste opp besvarelsen på github forut for presentasjonen (helst to dager før) slik at jeg har mulighet til å lese gjennom. Dere vil ha mulighet til å endre besvarelsen etter presentasjonen, frem til endelig innlevering 6 desember.\n",
    "\n",
    "\n"
   ]
  },
  {
   "cell_type": "code",
   "execution_count": 1,
   "id": "fd6b87ad-ff23-4f68-a186-092a3c560b34",
   "metadata": {},
   "outputs": [],
   "source": [
    "#pakker som du kan få bruk for\n",
    "import numpy as np\n",
    "import matplotlib.pyplot as plt\n",
    "from matplotlib.patches import Ellipse\n",
    "from IPython.display import display, clear_output\n",
    "import sympy as sp \n",
    "from sympy.solvers import solve"
   ]
  },
  {
   "cell_type": "markdown",
   "id": "06462796-016e-489b-ba82-74ab1e7ef659",
   "metadata": {},
   "source": [
    "### Oppgave 1 (10 poeng)"
   ]
  },
  {
   "cell_type": "markdown",
   "id": "e023ea65-979b-419f-adf7-cc3d9e3b8a96",
   "metadata": {},
   "source": [
    "a) Vi skal spille et spill der vi kaster en terning 6 ganger. Lag en funksjon med \"for-løkke\" som printer alle terningene som har blitt kastet. Du kan bruke `np.random.randint()` til å lage tilfeldige tall"
   ]
  },
  {
   "cell_type": "code",
   "execution_count": 2,
   "id": "87606b7f-1d07-4f16-ad7b-8f8aebb00ff0",
   "metadata": {},
   "outputs": [
    {
     "data": {
      "text/plain": [
       "'\\nlistetall1 = []\\ndef tall():\\n    for i in range(1,7): \\n        listetall1.append(i)     #enkel funksjon med for loop for å legge tall i liste med append.\\n        #print(listetall)\\n    return listetall1\\n#tall(2)\\n\\n\\n\\ndef bedretall():\\n    listetall = [i for i in range(1,7)]   # funksjon der vi begynner å fucke me liste med list comprehension. \\n    return print(listetall)               #Koden gjør det samme som den over. \"i\" kan forandres for å hente funksjon istedet eller uansett. \\nbedretall()                               #det puttes inn i listen. det som står før \"for i in range\" puttes i liste\\n\\n\\n\\ndef bedretall():\\n    listetall = [tall() for i in range(1,7)]  #list comprehension med funksjon som eksempel. putter alt som funksjonen returner inn i listen.\\n    return print(listetall)\\nbedretall()\\n'"
      ]
     },
     "execution_count": 2,
     "metadata": {},
     "output_type": "execute_result"
    }
   ],
   "source": [
    "def terningkasta(kast):\n",
    "    for i in range(kast):\n",
    "        print(np.random.randint(1,7))\n",
    "        \n",
    "#terningkasta(6) #Kaster terning 6 ganger\n",
    "\n",
    "\"\"\"\n",
    "listetall1 = []\n",
    "def tall():\n",
    "    for i in range(1,7): \n",
    "        listetall1.append(i)     #enkel funksjon med for loop for å legge tall i liste med append.\n",
    "        #print(listetall)\n",
    "    return listetall1\n",
    "#tall(2)\n",
    "\n",
    "\n",
    "\n",
    "def bedretall():\n",
    "    listetall = [i for i in range(1,7)]   # funksjon der vi begynner å fucke me liste med list comprehension. \n",
    "    return print(listetall)               #Koden gjør det samme som den over. \"i\" kan forandres for å hente funksjon istedet eller uansett. \n",
    "bedretall()                               #det puttes inn i listen. det som står før \"for i in range\" puttes i liste\n",
    "\n",
    "\n",
    "\n",
    "def bedretall():\n",
    "    listetall = [tall() for i in range(1,7)]  #list comprehension med funksjon som eksempel. putter alt som funksjonen returner inn i listen.\n",
    "    return print(listetall)\n",
    "bedretall()\n",
    "\"\"\"\n",
    "#"
   ]
  },
  {
   "cell_type": "markdown",
   "id": "513b72af-3d26-4e95-a339-9741c9baec4c",
   "metadata": {},
   "source": [
    "b) Juster den samme funksjonen slik at den lagrer tallene i en liste før den printer ut selve listen. Dere kan kalle denne listen for `lot_numbers`. Dere kan vurdere å bruke `append()` som del av funksjonen. "
   ]
  },
  {
   "cell_type": "code",
   "execution_count": 3,
   "id": "c6572aa3-75a2-4148-9945-7143e0215fab",
   "metadata": {},
   "outputs": [
    {
     "name": "stdout",
     "output_type": "stream",
     "text": [
      "[3, 3, 3, 1, 3, 3, 3]\n"
     ]
    }
   ],
   "source": [
    "def terningkastb(kast):\n",
    "    lot_numbers = [np.random.randint(1,7) for i in range(kast)] #lager liste inne i listen. \"List Comprehension\"\n",
    "    print(lot_numbers) #Looper like mange ganger som \"kast\" verdien.  \n",
    "\n",
    "        \n",
    "terningkastb(7) #Liste over terningkast"
   ]
  },
  {
   "cell_type": "markdown",
   "id": "82475b42-e595-4a0f-be43-79fcafd68ec6",
   "metadata": {},
   "source": [
    "c) Juster den samme funksjonen slik at den har to argument. Disse argumentene er to terningverdier som du \"tipper\" blir kastet. Bruk `if`, `else` og `elif` til å generere vinnertall. Resultatet fra funksjonen skal printe ut ulike setninger avhengig av om man får 0, 1 eller 2 rette. Setningene velger du selv, men de skal inneholde tallene som du tippet, og tallene som ble trukket.  "
   ]
  },
  {
   "cell_type": "code",
   "execution_count": 4,
   "id": "c5be1693-2afc-462a-a978-eefaf621a038",
   "metadata": {},
   "outputs": [
    {
     "name": "stdout",
     "output_type": "stream",
     "text": [
      "Du gjettet 3 og 5, ingen er i lista [2, 1]\n"
     ]
    }
   ],
   "source": [
    "def terningkastc(kast, gjett1, gjett2): #terning kast og våres gjettinger 1 og 2.\n",
    "    lot_numbers = [np.random.randint(1,7) for i in range(kast)]   #list comprehension isteder for append\n",
    "    rett1, rett2 = False, False  #Starter med å definere begge som false. må gjøres for å kunne forandres til true senere om gjettingen er rett.\n",
    "    \n",
    "    for i in lot_numbers: #i er alle tilfeldige tall i listen fra 1 til med ikke med 7\n",
    "        if i == gjett1:\n",
    "            rett1 = True\n",
    "        if i == gjett2:\n",
    "            rett2 = True\n",
    "    if rett1 and rett2 == True:   #if går hvis begge er rett, ellers går den videre nedover.\n",
    "        print(f'To rette gjett! Tallene {gjett1} og {gjett2} er i lista {lot_numbers}')          \n",
    "    elif rett1 == True:           #elif brukes som if else om ikke if er rett, for å gå videre ned\n",
    "        print(f'Ett rett gjett! Tallet {gjett1} er i lista {lot_numbers}, {gjett2} er ikke med') #sjekker om gjett 1 er rett\n",
    "    elif rett2 == True:\n",
    "        print(f'Ett rett gjett! Tallet {gjett2} er i lista {lot_numbers}, {gjett1} er ikke med') #sjekker om gjett 2 er rett\n",
    "    else: #else kommando der den har sjekket om begge gjettene er \"TRUE\", eller om en av de er true og siden ingen er rett så er det\n",
    "        print(f'Du gjettet {gjett1} og {gjett2}, ingen er i lista {lot_numbers}') #else kommandoen som kjører. \n",
    "        \n",
    "terningkastc(2, 3, 5)"
   ]
  },
  {
   "cell_type": "markdown",
   "id": "4b4172a9-635c-498b-bbbc-8444ba90fdbb",
   "metadata": {
    "tags": []
   },
   "source": [
    "### Oppgave 2 (10 poeng)\n",
    "a) Du har nå begynt å spille lotto i stedet, og satser alt på ett vinnertall. Lag en while-løkke som printer ut tall helt til du har trukket riktig tall (som du definerer selv). For enkelthets skyld kan du begrense utfallsrommet av trekningene til mellom 0-30."
   ]
  },
  {
   "cell_type": "code",
   "execution_count": 5,
   "id": "56ab890f-b7a3-47a1-b605-3606e0324560",
   "metadata": {},
   "outputs": [
    {
     "name": "stdout",
     "output_type": "stream",
     "text": [
      "Please guess up to 30, no float values\n"
     ]
    }
   ],
   "source": [
    "def lottoa(guess):\n",
    "    if 0 <= guess <= 30 and int == type(guess): #sjekker om guess er fra 0 til og med 30, siden np.randomint går til og med 30 og ville loopet for alltid hvis tallet var over randomint. eller under\n",
    "        loop = True #setter loop som true siden while loop kommer\n",
    "        while loop: #må sette while loop til true siden om rette lottotall blir gjettet så blir loop false og den stopper.\n",
    "            pick = np.random.randint(30)\n",
    "            if pick == guess: \n",
    "                print(f'Winner! {guess} was right!')\n",
    "                loop = False       #her blir den satt til false for at loopen skal slutte siden pick == guess da tallet blir gjettet.\n",
    "            else:\n",
    "                print(f'{pick} was picked') \n",
    "    else:\n",
    "        print('Please guess up to 30, no float values') #tall utenfor 0-30 ble satt i kommandoen. se linje2. \n",
    "        \n",
    "lottoa(5.2)"
   ]
  },
  {
   "cell_type": "markdown",
   "id": "07c405a6-2ba7-4e14-89d8-159f3246a1da",
   "metadata": {},
   "source": [
    "b) Lag et plot av den while-løkken du nettopp lagde. Man blir belønnet om man; \n",
    "- bruker `scatter`; \n",
    "- lager plottet dynamisk (dvs at hver trekning vises hver for seg, og at x-aksen endrer seg etter en gitt verdi); \n",
    "- viser hvor når siste trekningen blir gjort (dvs at den vises kun når du har trukket vinnertallet).\n",
    "\n",
    "Avhengig av hvordan du lager figuren din kan du får bruk for å importere pakkene `Ellipse`, `display`, `clear_output`."
   ]
  },
  {
   "cell_type": "code",
   "execution_count": 23,
   "id": "8a6e7111-a628-4a56-bcc7-5831d6530683",
   "metadata": {},
   "outputs": [
    {
     "name": "stdout",
     "output_type": "stream",
     "text": [
      "[40, 25, 19, 28, 42, 9, 45, 19, 49, 22, 34, 4, 45, 39, 12, 24, 2, 11, 1, 8, 4, 27, 40, 45, 35, 46, 10, 43, 0, 41, 36, 24, 19, 43, 26, 1, 17, 39, 0, 12, 32, 20, 5]\n"
     ]
    },
    {
     "data": {
      "image/png": "[encoded data removed]",
      "text/plain": [
       "<Figure size 432x288 with 1 Axes>"
      ]
     },
     "metadata": {
      "needs_background": "light"
     },
     "output_type": "display_data"
    }
   ],
   "source": [
    "def lottob(guess, maxnumber):\n",
    "    if 0 <= guess <= maxnumber:\n",
    "        loop = True\n",
    "        picklist = []\n",
    "        xpath = []\n",
    "        ypath = []\n",
    "        while loop:\n",
    "            pick = np.random.randint(maxnumber)\n",
    "            if pick == guess:\n",
    "                picklist.append(pick)\n",
    "                loop = False\n",
    "                ylist = [i for i in range(len(picklist))]\n",
    "                plt.scatter(picklist, ylist)\n",
    "                plt.scatter(pick, ylist[-1], color='red')\n",
    "                plt.xlabel('The number that was picked')\n",
    "                plt.ylabel('Pick order')\n",
    "                print(picklist)\n",
    "                if len(picklist) <= 50:\n",
    "                    plt.xticks(picklist)\n",
    "                    plt.grid(axis='x')\n",
    "                plt.show()\n",
    "            else:\n",
    "                picklist.append(pick)\n",
    "    else:\n",
    "        print(f'Please guess up to {maxnumber}')\n",
    "\n",
    "lottob(5, 50)"
   ]
  },
  {
   "cell_type": "markdown",
   "id": "ce376b8a-4ab8-4f08-83cd-31e2a25d918c",
   "metadata": {},
   "source": [
    "c) Ekstrapoeng: gjør det samme som i (b), men lag et histogram som vises ved siden av. Dette histogrammet skal vise hvor mange ganger de ulike tallene ble trekt. Bruk `plt.hist` til dette. Husk at du må definere figur og akseobjekt først.  "
   ]
  },
  {
   "cell_type": "code",
   "execution_count": 8,
   "id": "7daaa879-f592-44b5-94c0-cb023f6dba1e",
   "metadata": {},
   "outputs": [
    {
     "data": {
      "image/png": "[encoded data removed]",
      "text/plain": [
       "<Figure size 432x288 with 1 Axes>"
      ]
     },
     "metadata": {
      "needs_background": "light"
     },
     "output_type": "display_data"
    }
   ],
   "source": [
    "def lottoc(guess, maxnumber):\n",
    "    if 0 <= guess <= maxnumber:\n",
    "        loop = True\n",
    "        picklist = []\n",
    "        while loop:\n",
    "            pick = np.random.randint(maxnumber)\n",
    "            if pick == guess:\n",
    "                picklist.append(pick)\n",
    "                picklist.sort()\n",
    "                loop = False\n",
    "                ylist = [i for i in range(picklist[-1])]\n",
    "                plt.hist(picklist, ylist)\n",
    "                plt.xlabel('The number that was picked')\n",
    "                plt.ylabel('Number of times picked')\n",
    "                plt.show()\n",
    "            else:\n",
    "                picklist.append(pick)\n",
    "    else:\n",
    "        print(f'Please guess up to {maxnumber}')\n",
    "\n",
    "lottoc(5, 500)   "
   ]
  },
  {
   "cell_type": "markdown",
   "id": "c8f4e513-42c3-4d3b-a781-e97e5c484c1d",
   "metadata": {},
   "source": [
    "### Oppgave 3 (20 poeng)"
   ]
  },
  {
   "cell_type": "markdown",
   "id": "e3685232-4e17-4460-b83e-bf5ac0fe626c",
   "metadata": {},
   "source": [
    "En bedrift produserer biler. Produktfunksjonen til bedriften defineres slik  $f(L, a, R) = 2RL^{a}$, hvor:\n",
    "- `L` er arbeidskraft, \n",
    "- `a` er produktiviteten til arbeiderne og \n",
    "- `R` er antall robotmaskiner\n",
    "\n",
    "a) Lag en formel for produktfunksjonen til bedriften og plot den grafisk med ulike verdier av `L` på x-aksen. Anta `a=0.6` og `R=2`"
   ]
  },
  {
   "cell_type": "code",
   "execution_count": 24,
   "id": "3a30a765-dd60-4a26-a324-02d6a5c26eb9",
   "metadata": {},
   "outputs": [
    {
     "data": {
      "image/png": "[encoded data removed]",
      "text/plain": [
       "<Figure size 432x288 with 1 Axes>"
      ]
     },
     "metadata": {
      "needs_background": "light"
     },
     "output_type": "display_data"
    }
   ],
   "source": [
    "L = np.arange(0,1000,80)            #lager ulike verdier til L(arbeidskraft)\n",
    "a=0.6                               #legger inn verdi for a\n",
    "R=2                                 #legger inn verdi for R\n",
    "\n",
    "def f(L,a,R):                       #definerer produktfunksjon\n",
    "    return 2*R*L**a\n",
    "\n",
    "for i in L:                                            #lager for loop for de ulike L verdiene\n",
    "    plt.plot(i, f(i,a,R), 'midnightblue', marker='o')  #plotter grafen"
   ]
  },
  {
   "cell_type": "markdown",
   "id": "761b1c38-b798-4f13-b954-34ac93544549",
   "metadata": {},
   "source": [
    "b) anta at profittfunksjonen til denne bedriften er ${profit = f(L, a, R)p-wL-cR-K}$, hvor \n",
    "- `w` er månedslønnen til arbeiderne, \n",
    "- `c` er kostnaden for robotmaskinene \n",
    "- `K` er faste kostnader\n",
    "- `p` er utsalgsprisen på bilene. \n",
    "\n",
    "Anta `a=0.6`,`R=6`, `p=300 000`, `w=100 000`, `c= 1 000 000` og `K=90 000 000`. Plot profittfunksjonen figurativt for antall arbeidere (`L`) mellom 0 og 10 000. Vis profitten i millioner (dvs at du må dele på 1 000 000)"
   ]
  },
  {
   "cell_type": "code",
   "execution_count": 25,
   "id": "4a64ccd4-98eb-4cd2-8c64-e1196187092b",
   "metadata": {},
   "outputs": [
    {
     "data": {
      "image/png": "[encoded data removed]",
      "text/plain": [
       "<Figure size 432x288 with 1 Axes>"
      ]
     },
     "metadata": {
      "needs_background": "light"
     },
     "output_type": "display_data"
    }
   ],
   "source": [
    "L = np.arange(0,10000, 500)                 #nye verdier for L\n",
    "\n",
    "R=6                                         #legger inn de nye verdiene\n",
    "p=300000\n",
    "w=100000\n",
    "c=1000000\n",
    "K=90000000\n",
    "\n",
    "def profittfunksjon(L,a,R,p,w,c,K):         #definerer profittfunksjon og deler på 1 million\n",
    "    return (f(L,a,R)*p-w*L-c*R-K)/1000000   \n",
    "\n",
    "for i in L:                                 #ny loop for L, plotter profittfunksjon\n",
    "    plt.plot(i, profittfunksjon(i,a,R,p,w,c,K), 'gold', marker='o')"
   ]
  },
  {
   "cell_type": "markdown",
   "id": "abec7c59-aa53-4350-bb7a-01b7ec2488ec",
   "metadata": {},
   "source": [
    "c) Plot profitttfunksjonen for antall robostmaskiner `R=[3, 6, 9]` i samme plot (dvs at tre profittfunksjoner vises sammen). Bruk av \"for loops\" for å gjøre dette belønnes"
   ]
  },
  {
   "cell_type": "code",
   "execution_count": 26,
   "id": "e0d5dadb-c207-4ea2-9093-2edc9cffa6c5",
   "metadata": {},
   "outputs": [
    {
     "data": {
      "image/png": "[encoded data removed]",
      "text/plain": [
       "<Figure size 432x288 with 1 Axes>"
      ]
     },
     "metadata": {
      "needs_background": "light"
     },
     "output_type": "display_data"
    }
   ],
   "source": [
    "R=[3,6,9]                  #Lager liste for R\n",
    "\n",
    "for i in R:                #for loop for R listen, plotter\n",
    "    plt.plot(L, profittfunksjon(L,a,i,p,w,c,K), label='R{}'.format(i))"
   ]
  },
  {
   "cell_type": "markdown",
   "id": "cd9c9d0d-f57c-4fb7-8869-b795f74ce934",
   "metadata": {},
   "source": [
    "d) finn profittmaksimum og optimal antall arbeidere ved hjelp av derivasjon med samme forutsetninger som i (1b). Bruk `sympy`-pakken til dette "
   ]
  },
  {
   "cell_type": "code",
   "execution_count": null,
   "id": "1081a59e-9f9f-4a2f-ab4d-a9139740ba5b",
   "metadata": {},
   "outputs": [],
   "source": []
  },
  {
   "cell_type": "markdown",
   "id": "d4614067-a66f-46d5-ae32-d641942554a1",
   "metadata": {},
   "source": [
    "e) vis figurativt med bruk av `fill_between` arealet hvor man taper penger (i rødt) og hvor man tjener penger (i grønt). Marker også profittmaksimum og antall arbeidere i profittmaksimum - gjerne ved bruk av `vlines`. Bruk ellers samme forutsetninger for argumentene som i oppgave (1b)"
   ]
  },
  {
   "cell_type": "code",
   "execution_count": null,
   "id": "267eccfe-d1ab-4e45-a1f4-63990001efc0",
   "metadata": {},
   "outputs": [],
   "source": []
  },
  {
   "cell_type": "markdown",
   "id": "c7c75529-8429-49bd-b475-c3809f0cc087",
   "metadata": {},
   "source": [
    "f) Plot nå to figurer sammen der du viser hva optimal antall arbeidere gir i profitt (slik som i (2e)) og produksjon av antall biler (som du får fra produktfunksjonen). Marker optimum med vlines. Ha grafen med profittfunksjonen over grafen med produktfunksjonen. Du kan bruke `fig, (ax1, ax2) = plt.subplots(2)` når du skal gjøre dette. <br>\n",
    "\n",
    "<b> Hint: </b> Du kan finne antall biler som blir produsert ved å bruke antall arbeidere i profittmaksimum, i produktfunksjonen.\n"
   ]
  },
  {
   "cell_type": "code",
   "execution_count": null,
   "id": "c257e111-e078-4a48-afa5-74ff2bef9d56",
   "metadata": {},
   "outputs": [],
   "source": []
  },
  {
   "cell_type": "markdown",
   "id": "405329a8-fe5e-45a0-bf3b-d1182af70c1f",
   "metadata": {},
   "source": [
    "### Oppgave 4 (10 poeng)\n",
    "I denne oppgaven skal vi hente ut et datasett fra eurostat på investeringer i hosholdningen. Bruk koden under til å hente ut dataene.\n",
    "<br><b>NB!:</b> Husk at dere må ha innstallert pakken `eurostat`. Dette gjør dere med å åpne \"Terminal\" og kjøre  `pip install eurostat`."
   ]
  },
  {
   "cell_type": "code",
   "execution_count": 27,
   "id": "444371dc-188a-478a-86f5-4d3c0f36bfff",
   "metadata": {},
   "outputs": [],
   "source": [
    "import eurostat\n",
    "\n",
    "inv_data = eurostat.get_data_df('tec00098')\n"
   ]
  },
  {
   "cell_type": "markdown",
   "id": "cfd54317-e3e2-437f-a9d5-26d941c3d9d5",
   "metadata": {},
   "source": [
    "a) Bytt navn på kolonnen \"geo\\\\time\" til \"country\" ved bruk av en av kodene under. Fjern så alle kolonner utenom \"country\" og alle årstallene. \n",
    "<br> <b>NB!:</b> Noen vil få en ekstra første kolonne som heter \"freq\" eller noe annet. Da må dere bruke versjon 2 av koden under. "
   ]
  },
  {
   "cell_type": "code",
   "execution_count": null,
   "id": "4dc833b6-7349-4773-9789-47d2da20015d",
   "metadata": {},
   "outputs": [],
   "source": [
    "inv_data.columns = ['unit',   'sector',  'na_item', 'country'] + list(range(2010, 2022)) #v1\n"
   ]
  },
  {
   "cell_type": "code",
   "execution_count": null,
   "id": "2e3da626-a5e4-4ed5-af0f-29023179b077",
   "metadata": {},
   "outputs": [],
   "source": [
    "inv_data.columns = ['freq', 'unit',   'sector',  'na_item', 'country'] + list(range(2010, 2022)) #v2 \n"
   ]
  },
  {
   "cell_type": "code",
   "execution_count": null,
   "id": "2821141b-796b-4af2-a1da-810186947836",
   "metadata": {},
   "outputs": [],
   "source": []
  },
  {
   "cell_type": "markdown",
   "id": "fb718dfb-02b0-49fa-88d0-27fabc3a7948",
   "metadata": {},
   "source": [
    "b) fjern radene med nan verdi. Sett deretter indeksen til \"country\". <br> <b> Hint: </b> En metode er å bruke `isna()` og `any()` over radaksene (dvs. `axis=1`)"
   ]
  },
  {
   "cell_type": "code",
   "execution_count": null,
   "id": "834b2eda-b002-4bb1-ba63-6db7091c1127",
   "metadata": {},
   "outputs": [],
   "source": []
  },
  {
   "cell_type": "markdown",
   "id": "f68af0f0-770f-4217-8491-723e8cc7480e",
   "metadata": {},
   "source": [
    "c) Lag et nytt datasett hvor du kun har med de nordiske landene (dvs. \"NO\", \"SE\", \"DK\", \"FI\"). Det kan være nyttig å bruke `isin` til dette. Bytt så om på kolonner og rader ved hjelp av `transpose`. "
   ]
  },
  {
   "cell_type": "code",
   "execution_count": null,
   "id": "a82331aa-405e-4414-a088-546298c32291",
   "metadata": {},
   "outputs": [],
   "source": []
  },
  {
   "cell_type": "markdown",
   "id": "2d49e2bb-b44e-4558-b279-1bc10a1ba6ab",
   "metadata": {},
   "source": [
    "d) Lag en ny kolonne som du kaller \"mean\". Denne skal være gjennomsnittet av alle de nordiske landene for hvert av årene (dvs at du må ta gjennomsnittet over radene). Plot så dette og kall y-aksen for \"investering\""
   ]
  },
  {
   "cell_type": "code",
   "execution_count": null,
   "id": "c78d7898-1931-4b4c-a4ac-f0bd1a4b3499",
   "metadata": {},
   "outputs": [],
   "source": []
  }
 ],
 "metadata": {
  "kernelspec": {
   "display_name": "Python 3 (ipykernel)",
   "language": "python",
   "name": "python3"
  },
  "language_info": {
   "codemirror_mode": {
    "name": "ipython",
    "version": 3
   },
   "file_extension": ".py",
   "mimetype": "text/x-python",
   "name": "python",
   "nbconvert_exporter": "python",
   "pygments_lexer": "ipython3",
   "version": "3.9.13"
  }
 },
 "nbformat": 4,
 "nbformat_minor": 5
}
